{
 "cells": [
  {
   "cell_type": "code",
   "execution_count": 69,
   "metadata": {},
   "outputs": [
    {
     "data": {
      "text/plain": [
       "(307511, 122)"
      ]
     },
     "execution_count": 69,
     "metadata": {},
     "output_type": "execute_result"
    }
   ],
   "source": [
    "from sklearn import datasets\n",
    "import pandas as pd\n",
    "import numpy as np\n",
    "import matplotlib.pyplot as plt\n",
    "import seaborn as sns\n",
    "\n",
    "# sklearn preprocessing for dealing with categorical variables\n",
    "from sklearn.preprocessing import LabelEncoder\n",
    "\n",
    "# File system manangement\n",
    "import os\n",
    "\n",
    "# Suppress warnings \n",
    "# import warnings\n",
    "# warnings.filterwarnings('ignore')\n",
    "\n",
    "plt.style.use('ggplot')\n",
    "\n",
    "## Read & Format Data\n",
    "df_test = pd.read_csv('all/application_test.csv')\n",
    "df_train = pd.read_csv('all/application_train.csv')\n",
    "df_train.head()\n",
    "df_train.shape\n"
   ]
  },
  {
   "cell_type": "code",
   "execution_count": 70,
   "metadata": {},
   "outputs": [
    {
     "name": "stdout",
     "output_type": "stream",
     "text": [
      "Training data shape:  (307511, 122)\n",
      "Testing data shape:  (48744, 121)\n",
      "Your selected dataframe has 122 columns.\n",
      "There are 67 columns that have missing values.\n",
      "float64    65\n",
      "int64      41\n",
      "object     16\n",
      "dtype: int64\n"
     ]
    }
   ],
   "source": [
    "pd.set_option('display.max_columns', None)\n",
    "\n",
    "##Testing data\n",
    "print('Training data shape: ', df_train.shape)\n",
    "df_train.head()\n",
    "\n",
    "##Testing data\n",
    "print('Testing data shape: ', df_test.shape)\n",
    "df_test.head()\n",
    "\n",
    "###\n",
    "#EDA: Exploratory Data Analisys \n",
    "####\n",
    "\n",
    "##Examine missing values\n",
    "\n",
    "def missing_values_table(df):\n",
    "    \n",
    "    # Total missing values\n",
    "    mis_val = df_train.isnull().sum()\n",
    "\n",
    "    # Percentage of missing values\n",
    "    mis_val_percent = 100 * df_train.isnull().sum() / len(df_train)\n",
    "\n",
    "    # Make a table with the results\n",
    "    mis_val_table = pd.concat([mis_val, mis_val_percent], axis=1)\n",
    "    # print(mis_val_table)\n",
    "\n",
    "    # Rename the columns\n",
    "    mis_val_table_ren_columns = mis_val_table.rename(\n",
    "    columns = {0 : 'Missing Values', 1 : '% of Total Values'})\n",
    "    # print(mis_val_table_ren_columns)\n",
    "\n",
    "    # Sort the table by percentage of missing descending\n",
    "    mis_val_table_ren_columns = mis_val_table_ren_columns[\n",
    "        mis_val_table_ren_columns.iloc[:,1] != 0].sort_values('% of Total Values', ascending=False).round(1)\n",
    "\n",
    "    # Print some summary information\n",
    "    print (\"Your selected dataframe has \" + str(df.shape[1]) + \" columns.\\n\"\n",
    "            \"There are \" + str(mis_val_table_ren_columns.shape[0]) + \n",
    "           \" columns that have missing values.\")\n",
    "\n",
    "    # Return the dataframe with missing information\n",
    "    return mis_val_table_ren_columns\n",
    "\n",
    "# Missing values statistics\n",
    "missing_values = missing_values_table(df_train)\n",
    "missing_values.head(67)\n",
    "\n",
    "# Number of each type of column\n",
    "print(df_train.dtypes.value_counts())\n"
   ]
  },
  {
   "cell_type": "code",
   "execution_count": 71,
   "metadata": {},
   "outputs": [
    {
     "name": "stdout",
     "output_type": "stream",
     "text": [
      "3 columns were label encoded.\n"
     ]
    }
   ],
   "source": [
    "# Create a label encoder object\n",
    "le = LabelEncoder()\n",
    "le_count = 0\n",
    "\n",
    "# Iterate through the columns\n",
    "for col in df_train:\n",
    "    if df_train[col].dtype == 'object':\n",
    "        # If 2 or fewer unique categories\n",
    "        if len(list(df_train[col].unique())) <= 2:\n",
    "            # Train on the training data\n",
    "            le.fit(df_train[col])\n",
    "            # Transform both training and testing data\n",
    "            df_train[col] = le.transform(df_train[col])\n",
    "            df_test[col] = le.transform(df_test[col])\n",
    "            \n",
    "            # Keep track of how many columns were label encoded\n",
    "            le_count += 1\n",
    "            \n",
    "print('%d columns were label encoded.' % le_count)"
   ]
  },
  {
   "cell_type": "code",
   "execution_count": 72,
   "metadata": {},
   "outputs": [],
   "source": [
    "app_train = df_train\n",
    "app_test = df_test"
   ]
  },
  {
   "cell_type": "code",
   "execution_count": 73,
   "metadata": {},
   "outputs": [
    {
     "name": "stdout",
     "output_type": "stream",
     "text": [
      "Training Features shape:  (307511, 243)\n",
      "Testing Features shape:  (48744, 239)\n"
     ]
    }
   ],
   "source": [
    "# one-hot encoding of categorical variables\n",
    "app_train = pd.get_dummies(app_train)\n",
    "app_test = pd.get_dummies(app_test)\n",
    "\n",
    "print('Training Features shape: ', app_train.shape)\n",
    "print('Testing Features shape: ', app_test.shape)\n"
   ]
  },
  {
   "cell_type": "code",
   "execution_count": 74,
   "metadata": {
    "scrolled": true
   },
   "outputs": [
    {
     "name": "stdout",
     "output_type": "stream",
     "text": [
      "Training Features shape:  (307511, 240)\n",
      "Testing Features shape:  (48744, 239)\n",
      "count    307511.000000\n",
      "mean         43.936973\n",
      "std          11.956133\n",
      "min          20.517808\n",
      "25%          34.008219\n",
      "50%          43.150685\n",
      "75%          53.923288\n",
      "max          69.120548\n",
      "Name: DAYS_BIRTH, dtype: float64\n",
      "count    307511.000000\n",
      "mean      63815.045904\n",
      "std      141275.766519\n",
      "min      -17912.000000\n",
      "25%       -2760.000000\n",
      "50%       -1213.000000\n",
      "75%        -289.000000\n",
      "max      365243.000000\n",
      "Name: DAYS_EMPLOYED, dtype: float64\n"
     ]
    },
    {
     "data": {
      "image/png": "[encoded data removed]",
      "text/plain": [
       "<Figure size 432x288 with 1 Axes>"
      ]
     },
     "metadata": {},
     "output_type": "display_data"
    }
   ],
   "source": [
    "train_labels = app_train['TARGET']\n",
    "\n",
    "# Align the training and testing data, keep only columns present in both dataframes\n",
    "app_train, app_test = app_train.align(app_test, join = 'inner', axis = 1)\n",
    "\n",
    "# Add the target back in\n",
    "app_train['TARGET'] = train_labels\n",
    "\n",
    "print('Training Features shape: ', app_train.shape)\n",
    "print('Testing Features shape: ', app_test.shape)\n",
    "\n",
    "# ###\n",
    "# Check for anomalies /errors in data\n",
    "# ###\n",
    "\n",
    "##Convert birth data to years\n",
    "print((app_train['DAYS_BIRTH'] / -365).describe())\n",
    "\n",
    "print(app_train['DAYS_EMPLOYED'].describe())\n",
    "app_train['DAYS_EMPLOYED'].plot.hist(title = 'Days Employment Histogram');\n",
    "plt.xlabel('Days Employment');\n",
    "\n",
    "anom = app_train[app_train['DAYS_EMPLOYED'] == 365243]\n",
    "non_anom = app_train[app_train['DAYS_EMPLOYED'] != 365243]\n",
    "\n",
    "# Create an anomalous flag column\n",
    "app_train['DAYS_EMPLOYED_ANOM'] = app_train[\"DAYS_EMPLOYED\"] == 365243\n",
    "\n",
    "# Replace the anomalous values with nan\n",
    "app_train['DAYS_EMPLOYED'].replace({365243: np.nan}, inplace = True)\n",
    "\n",
    "##Do same to testing data\n",
    "app_test['DAYS_EMPLOYED_ANOM'] = app_test[\"DAYS_EMPLOYED\"] == 365243\n",
    "app_test[\"DAYS_EMPLOYED\"].replace({365243: np.nan}, inplace = True)"
   ]
  },
  {
   "cell_type": "code",
   "execution_count": 75,
   "metadata": {},
   "outputs": [
    {
     "name": "stdout",
     "output_type": "stream",
     "text": [
      "Most Positive Correlations:\n",
      " OCCUPATION_TYPE_Laborers                             0.043019\n",
      "FLAG_DOCUMENT_3                                      0.044346\n",
      "REG_CITY_NOT_LIVE_CITY                               0.044395\n",
      "FLAG_EMP_PHONE                                       0.045982\n",
      "NAME_EDUCATION_TYPE_Secondary / secondary special    0.049824\n",
      "REG_CITY_NOT_WORK_CITY                               0.050994\n",
      "DAYS_ID_PUBLISH                                      0.051457\n",
      "CODE_GENDER_M                                        0.054713\n",
      "DAYS_LAST_PHONE_CHANGE                               0.055218\n",
      "NAME_INCOME_TYPE_Working                             0.057481\n",
      "REGION_RATING_CLIENT                                 0.058899\n",
      "REGION_RATING_CLIENT_W_CITY                          0.060893\n",
      "DAYS_EMPLOYED                                        0.074958\n",
      "DAYS_BIRTH                                           0.078239\n",
      "TARGET                                               1.000000\n",
      "Name: TARGET, dtype: float64\n",
      "\n",
      "Most Negative Correlations:\n",
      " EXT_SOURCE_3                           -0.178919\n",
      "EXT_SOURCE_2                           -0.160472\n",
      "EXT_SOURCE_1                           -0.155317\n",
      "NAME_EDUCATION_TYPE_Higher education   -0.056593\n",
      "CODE_GENDER_F                          -0.054704\n",
      "NAME_INCOME_TYPE_Pensioner             -0.046209\n",
      "DAYS_EMPLOYED_ANOM                     -0.045987\n",
      "ORGANIZATION_TYPE_XNA                  -0.045987\n",
      "FLOORSMAX_AVG                          -0.044003\n",
      "FLOORSMAX_MEDI                         -0.043768\n",
      "FLOORSMAX_MODE                         -0.043226\n",
      "EMERGENCYSTATE_MODE_No                 -0.042201\n",
      "HOUSETYPE_MODE_block of flats          -0.040594\n",
      "AMT_GOODS_PRICE                        -0.039645\n",
      "REGION_POPULATION_RELATIVE             -0.037227\n",
      "Name: TARGET, dtype: float64\n"
     ]
    }
   ],
   "source": [
    "# Find correlations with the target and sort\n",
    "correlations = app_train.corr()['TARGET'].sort_values()\n",
    "\n",
    "# Display correlations\n",
    "print('Most Positive Correlations:\\n', correlations.tail(15))\n",
    "print('\\nMost Negative Correlations:\\n', correlations.head(15))"
   ]
  },
  {
   "cell_type": "code",
   "execution_count": 76,
   "metadata": {},
   "outputs": [
    {
     "name": "stdout",
     "output_type": "stream",
     "text": [
      "Polynomial Features shape:  (307511, 35)\n",
      "['1', 'EXT_SOURCE_1', 'EXT_SOURCE_2', 'EXT_SOURCE_3', 'DAYS_BIRTH', 'EXT_SOURCE_1^2', 'EXT_SOURCE_1 EXT_SOURCE_2', 'EXT_SOURCE_1 EXT_SOURCE_3', 'EXT_SOURCE_1 DAYS_BIRTH', 'EXT_SOURCE_2^2', 'EXT_SOURCE_2 EXT_SOURCE_3', 'EXT_SOURCE_2 DAYS_BIRTH', 'EXT_SOURCE_3^2', 'EXT_SOURCE_3 DAYS_BIRTH', 'DAYS_BIRTH^2']\n",
      "EXT_SOURCE_2 EXT_SOURCE_3                -0.193939\n",
      "EXT_SOURCE_1 EXT_SOURCE_2 EXT_SOURCE_3   -0.189605\n",
      "EXT_SOURCE_2^2 EXT_SOURCE_3              -0.176428\n",
      "EXT_SOURCE_2 EXT_SOURCE_3^2              -0.172282\n",
      "EXT_SOURCE_1 EXT_SOURCE_2                -0.166625\n",
      "EXT_SOURCE_1 EXT_SOURCE_3                -0.164065\n",
      "EXT_SOURCE_2                             -0.160295\n",
      "EXT_SOURCE_1 EXT_SOURCE_2^2              -0.156867\n",
      "EXT_SOURCE_3                             -0.155892\n",
      "EXT_SOURCE_1 EXT_SOURCE_3^2              -0.150822\n",
      "Name: TARGET, dtype: float64\n",
      "EXT_SOURCE_1 EXT_SOURCE_2 DAYS_BIRTH    0.155891\n",
      "EXT_SOURCE_2 DAYS_BIRTH                 0.156873\n",
      "EXT_SOURCE_2 EXT_SOURCE_3 DAYS_BIRTH    0.181283\n",
      "TARGET                                  1.000000\n",
      "1                                            NaN\n",
      "Name: TARGET, dtype: float64\n"
     ]
    }
   ],
   "source": [
    "# # Polynomial Features\n",
    "\n",
    "# One simple feature construction method is called polynomial features. In this method, \n",
    "# we make features that are powers of existing features as well as interaction terms between\n",
    "# existing features. For example, we can create variables EXT_SOURCE_1^2 and EXT_SOURCE_2^2 \n",
    "# and also variables such as EXT_SOURCE_1 x EXT_SOURCE_2, EXT_SOURCE_1 x EXT_SOURCE_2^2, \n",
    "# EXT_SOURCE_1^2 x  EXT_SOURCE_2^2, and so on. These features that are a combination of \n",
    "# multiple individual variables are called interaction terms because they capture the \n",
    "# interactions between variables. In other words, while two variables by themselves may not \n",
    "# have a strong influence on the target, combining them together into a single interaction \n",
    "# variable might show a relationship with the target. Interaction terms are commonly used \n",
    "# in statistical models to capture the effects of multiple variables, but I do not see them \n",
    "# used as often in machine learning. Nonetheless, we can try out a few to see if they might\n",
    "# help our model to predict whether or not a client will repay a loan.\n",
    "\n",
    "# Make a new dataframe for polynomial features\n",
    "poly_features = app_train[['EXT_SOURCE_1', 'EXT_SOURCE_2', 'EXT_SOURCE_3', 'DAYS_BIRTH', 'TARGET']]\n",
    "poly_features_test = app_test[['EXT_SOURCE_1', 'EXT_SOURCE_2', 'EXT_SOURCE_3', 'DAYS_BIRTH']]\n",
    "\n",
    "# imputer for handling missing values\n",
    "from sklearn.preprocessing import Imputer\n",
    "imputer = Imputer(strategy = 'median')\n",
    "\n",
    "poly_target = poly_features['TARGET']\n",
    "\n",
    "poly_features = poly_features.drop(columns = ['TARGET'])\n",
    "\n",
    "# Need to impute missing values\n",
    "poly_features = imputer.fit_transform(poly_features)\n",
    "poly_features_test = imputer.transform(poly_features_test)\n",
    "\n",
    "from sklearn.preprocessing import PolynomialFeatures\n",
    "                                  \n",
    "# Create the polynomial object with specified degree\n",
    "poly_transformer = PolynomialFeatures(degree = 3)\n",
    "\n",
    "# Train the polynomial features\n",
    "poly_transformer.fit(poly_features)\n",
    "\n",
    "# Transform the features\n",
    "poly_features = poly_transformer.transform(poly_features)\n",
    "poly_features_test = poly_transformer.transform(poly_features_test)\n",
    "print('Polynomial Features shape: ', poly_features.shape)\n",
    "\n",
    "#This creates a considerable number of new features. \n",
    "#To get the names we have to use the polynomial features get_feature_names method.\n",
    "\n",
    "# Get feature names \n",
    "print(poly_transformer.get_feature_names(input_features = ['EXT_SOURCE_1', 'EXT_SOURCE_2', 'EXT_SOURCE_3', 'DAYS_BIRTH'])[:15])\n",
    "\n",
    "# Now, we can see whether any of these new features are correlated with the target.\n",
    "\n",
    "# Create a dataframe of the features \n",
    "poly_features = pd.DataFrame(poly_features, \n",
    "                             columns = poly_transformer.get_feature_names(['EXT_SOURCE_1', 'EXT_SOURCE_2', \n",
    "                                                                           'EXT_SOURCE_3', 'DAYS_BIRTH']))\n",
    "# Add in the target\n",
    "poly_features['TARGET'] = poly_target\n",
    "\n",
    "# Find the correlations with the target\n",
    "poly_corrs = poly_features.corr()['TARGET'].sort_values()\n",
    "\n",
    "# Display most negative and most positive\n",
    "print(poly_corrs.head(10))\n",
    "print(poly_corrs.tail(5))\n"
   ]
  },
  {
   "cell_type": "code",
   "execution_count": 77,
   "metadata": {},
   "outputs": [
    {
     "name": "stdout",
     "output_type": "stream",
     "text": [
      "Training data with polynomial features shape:  (307511, 275)\n",
      "Testing data with polynomial features shape:   (48744, 275)\n"
     ]
    }
   ],
   "source": [
    "# Several of the new variables have a greater (in terms of absolute magnitude) \n",
    "# correlation with the target than the original features. When we build machine \n",
    "# learning models, we can try with and without these features to determine if they\n",
    "# actually help the model learn.\n",
    "# We will add these features to a copy of the training and testing data and then\n",
    "# evaluate models with and without the features. Many times in machine learning, \n",
    "# the only way to know if an approach will work is to try it out!\n",
    "\n",
    "# Put test features into dataframe\n",
    "poly_features_test = pd.DataFrame(poly_features_test, \n",
    "                                  columns = poly_transformer.get_feature_names(['EXT_SOURCE_1', 'EXT_SOURCE_2', \n",
    "                                                                                'EXT_SOURCE_3', 'DAYS_BIRTH']))\n",
    "\n",
    "# Merge polynomial features into training dataframe\n",
    "poly_features['SK_ID_CURR'] = app_train['SK_ID_CURR']\n",
    "app_train_poly = app_train.merge(poly_features, on = 'SK_ID_CURR', how = 'left')\n",
    "\n",
    "# Merge polnomial features into testing dataframe\n",
    "poly_features_test['SK_ID_CURR'] = app_test['SK_ID_CURR']\n",
    "app_test_poly = app_test.merge(poly_features_test, on = 'SK_ID_CURR', how = 'left')\n",
    "\n",
    "# Align the dataframes\n",
    "app_train_poly, app_test_poly = app_train_poly.align(app_test_poly, join = 'inner', axis = 1)\n",
    "\n",
    "# Print out the new shapes\n",
    "print('Training data with polynomial features shape: ', app_train_poly.shape)\n",
    "print('Testing data with polynomial features shape:  ', app_test_poly.shape)\n",
    "\n"
   ]
  },
  {
   "cell_type": "code",
   "execution_count": 78,
   "metadata": {},
   "outputs": [
    {
     "data": {
      "text/plain": [
       "(307511, 37)"
      ]
     },
     "execution_count": 78,
     "metadata": {},
     "output_type": "execute_result"
    }
   ],
   "source": [
    "poly_features.shape"
   ]
  },
  {
   "cell_type": "code",
   "execution_count": 79,
   "metadata": {},
   "outputs": [
    {
     "name": "stdout",
     "output_type": "stream",
     "text": [
      "Training data shape:  (307511, 275)\n",
      "Testing data shape:  (48744, 275)\n",
      "Testing target shape:  (307511,)\n"
     ]
    }
   ],
   "source": [
    "from sklearn.preprocessing import MinMaxScaler, Imputer\n",
    "\n",
    "# Drop the target from the training data\n",
    "if 'TARGET' in app_train_poly:\n",
    "    train = app_train_poly.drop(columns = ['TARGET'])\n",
    "else:\n",
    "    train = app_train_poly.copy()\n",
    "    \n",
    "# Feature names\n",
    "features = list(train.columns)\n",
    "\n",
    "# Copy of the testing data\n",
    "test = app_test_poly.copy()\n",
    "\n",
    "# Median imputation of missing values\n",
    "imputer = Imputer(strategy = 'median')\n",
    "\n",
    "# # Scale each feature to 0-1\n",
    "scaler = MinMaxScaler(feature_range = (0, 1))\n",
    "\n",
    "# Fit on the training data\n",
    "imputer.fit(train)\n",
    "\n",
    "# Transform both training and testing data\n",
    "train = imputer.transform(train)\n",
    "test = imputer.transform(test)\n",
    "\n",
    "# Repeat with the scaler\n",
    "scaler.fit(train)\n",
    "train = scaler.transform(train)\n",
    "test = scaler.transform(test)\n",
    "\n",
    "target=poly_features['TARGET']\n",
    "\n",
    "print('Training data shape: ', train.shape)\n",
    "print('Testing data shape: ', test.shape)\n",
    "print('Testing target shape: ', target.shape)"
   ]
  },
  {
   "cell_type": "code",
   "execution_count": 80,
   "metadata": {},
   "outputs": [
    {
     "data": {
      "text/plain": [
       "Index(['SK_ID_CURR', 'NAME_CONTRACT_TYPE', 'FLAG_OWN_CAR', 'FLAG_OWN_REALTY',\n",
       "       'CNT_CHILDREN', 'AMT_INCOME_TOTAL', 'AMT_CREDIT', 'AMT_ANNUITY',\n",
       "       'AMT_GOODS_PRICE', 'REGION_POPULATION_RELATIVE',\n",
       "       ...\n",
       "       'EXT_SOURCE_2^3', 'EXT_SOURCE_2^2 EXT_SOURCE_3',\n",
       "       'EXT_SOURCE_2^2 DAYS_BIRTH', 'EXT_SOURCE_2 EXT_SOURCE_3^2',\n",
       "       'EXT_SOURCE_2 EXT_SOURCE_3 DAYS_BIRTH', 'EXT_SOURCE_2 DAYS_BIRTH^2',\n",
       "       'EXT_SOURCE_3^3', 'EXT_SOURCE_3^2 DAYS_BIRTH',\n",
       "       'EXT_SOURCE_3 DAYS_BIRTH^2', 'DAYS_BIRTH^3'],\n",
       "      dtype='object', length=275)"
      ]
     },
     "execution_count": 80,
     "metadata": {},
     "output_type": "execute_result"
    }
   ],
   "source": [
    "app_train_poly.columns"
   ]
  },
  {
   "cell_type": "code",
   "execution_count": 81,
   "metadata": {},
   "outputs": [
    {
     "data": {
      "text/plain": [
       "0         True\n",
       "1         True\n",
       "2         True\n",
       "3         True\n",
       "4         True\n",
       "5         True\n",
       "6         True\n",
       "7         True\n",
       "8         True\n",
       "9         True\n",
       "10        True\n",
       "11        True\n",
       "12        True\n",
       "13        True\n",
       "14        True\n",
       "15        True\n",
       "16        True\n",
       "17        True\n",
       "18        True\n",
       "19        True\n",
       "20        True\n",
       "21        True\n",
       "22        True\n",
       "23        True\n",
       "24        True\n",
       "25        True\n",
       "26        True\n",
       "27        True\n",
       "28        True\n",
       "29        True\n",
       "          ... \n",
       "307481    True\n",
       "307482    True\n",
       "307483    True\n",
       "307484    True\n",
       "307485    True\n",
       "307486    True\n",
       "307487    True\n",
       "307488    True\n",
       "307489    True\n",
       "307490    True\n",
       "307491    True\n",
       "307492    True\n",
       "307493    True\n",
       "307494    True\n",
       "307495    True\n",
       "307496    True\n",
       "307497    True\n",
       "307498    True\n",
       "307499    True\n",
       "307500    True\n",
       "307501    True\n",
       "307502    True\n",
       "307503    True\n",
       "307504    True\n",
       "307505    True\n",
       "307506    True\n",
       "307507    True\n",
       "307508    True\n",
       "307509    True\n",
       "307510    True\n",
       "Name: TARGET, Length: 307511, dtype: bool"
      ]
     },
     "execution_count": 81,
     "metadata": {},
     "output_type": "execute_result"
    }
   ],
   "source": [
    "target == train_labels"
   ]
  },
  {
   "cell_type": "code",
   "execution_count": 91,
   "metadata": {},
   "outputs": [
    {
     "name": "stdout",
     "output_type": "stream",
     "text": [
      "             precision    recall  f1-score   support\n",
      "\n",
      "          0       0.92      1.00      0.96     84841\n",
      "          1       0.51      0.01      0.02      7413\n",
      "\n",
      "avg / total       0.89      0.92      0.88     92254\n",
      "\n"
     ]
    }
   ],
   "source": [
    "# Import necessary modules\n",
    "from sklearn.metrics import classification_report, confusion_matrix\n",
    "from sklearn.linear_model import LogisticRegression\n",
    "from sklearn.model_selection import train_test_split\n",
    "\n",
    "##Create X y split of Data\n",
    "# X_train = train\n",
    "# y_train = target\n",
    "# print(X_tr_train)\n",
    "# print(y_tr_train.shape)\n",
    "\n",
    "# Create training and test set\n",
    "X_train, X_test, y_train, y_test = train_test_split(train,train_labels,test_size=0.3,random_state=42)\n",
    "\n",
    "# Instantiate classifier: \n",
    "logreg = LogisticRegression()\n",
    "### C = 0.5 : 0.739\n",
    "### C = 0.0001 : 0.719 (though it was 0.69 something when first submitted below and trained on all train data) \n",
    "### C = default : 0.739\n",
    "\n",
    "# Fit the classifier to the training data\n",
    "logreg.fit(X_train, y_train)\n",
    "\n",
    "# Predict the labels of the internal test data: y_pred\n",
    "y_pred = logreg.predict(X_test)\n",
    "\n",
    "# Generate the confusion matrix and classification report\n",
    "# print(confusion_matrix(y_tr_test, y_pred))\n",
    "print(classification_report(y_test, y_pred))"
   ]
  },
  {
   "cell_type": "code",
   "execution_count": 83,
   "metadata": {},
   "outputs": [],
   "source": [
    "# from sklearn.linear_model import LogisticRegression\n",
    "\n",
    "# # Make the model with the specified regularization parameter\n",
    "# log_reg = LogisticRegression(C = 0.0001) ##lower C regularization param to try DECREASE OVERFITTING\n",
    "\n",
    "# # Train on the training data\n",
    "# log_reg.fit(train, train_labels)"
   ]
  },
  {
   "cell_type": "code",
   "execution_count": null,
   "metadata": {},
   "outputs": [],
   "source": []
  },
  {
   "cell_type": "code",
   "execution_count": 88,
   "metadata": {},
   "outputs": [
    {
     "data": {
      "text/plain": [
       "LogisticRegression(C=0.0001, class_weight=None, dual=False,\n",
       "          fit_intercept=True, intercept_scaling=1, max_iter=100,\n",
       "          multi_class='ovr', n_jobs=1, penalty='l2', random_state=None,\n",
       "          solver='liblinear', tol=0.0001, verbose=0, warm_start=False)"
      ]
     },
     "execution_count": 88,
     "metadata": {},
     "output_type": "execute_result"
    }
   ],
   "source": [
    "#Submission predict on Kaggle full test set\n",
    "log_reg.fit(train, target) \n",
    "###comments next try runnin logreg (no underscore) running C default or C=0.5 on full training set"
   ]
  },
  {
   "cell_type": "code",
   "execution_count": 92,
   "metadata": {},
   "outputs": [
    {
     "data": {
      "text/plain": [
       "array([0.05528104, 0.2027535 , 0.03848081, 0.03811677, 0.1210793 ,\n",
       "       0.02171303, 0.01959755, 0.09764874, 0.01423668, 0.10609917,\n",
       "       0.06546052, 0.07790657, 0.17314303, 0.09442461, 0.08639029,\n",
       "       0.1420692 , 0.07265187, 0.02903452, 0.06852213, 0.0419836 ,\n",
       "       0.02789586, 0.00599209, 0.03525226, 0.08177379, 0.04402978,\n",
       "       0.12791546, 0.09591577, 0.0607906 , 0.04848568, 0.08466561,\n",
       "       0.01563722, 0.0214271 , 0.17312516, 0.01659413, 0.02019841,\n",
       "       0.10917053, 0.01332168, 0.24234298, 0.01476005, 0.16910948,\n",
       "       0.14413569, 0.01592055, 0.09135775, 0.05386449, 0.11355748,\n",
       "       0.14884245, 0.03529616, 0.15926247, 0.07633957, 0.09854775,\n",
       "       0.0636426 , 0.03412044, 0.13459848, 0.02676589, 0.12409521,\n",
       "       0.03763942, 0.04298292, 0.16382005, 0.14545577, 0.09550509,\n",
       "       0.03244766, 0.05833609, 0.01921744, 0.02693841, 0.01338891,\n",
       "       0.07061653, 0.15626249, 0.03046374, 0.03756467, 0.0515536 ,\n",
       "       0.04281676, 0.13893538, 0.03043157, 0.14544204, 0.42655104,\n",
       "       0.03937699, 0.0590136 , 0.02099053, 0.05747166, 0.05892192,\n",
       "       0.07372751, 0.12797976, 0.09155214, 0.14622115, 0.09935393,\n",
       "       0.15191837, 0.05411375, 0.44817056, 0.07893767, 0.20289992,\n",
       "       0.12162751, 0.13572972, 0.04777435, 0.15408561, 0.24797833,\n",
       "       0.03738754, 0.32974834, 0.21193666, 0.06119739, 0.08810627,\n",
       "       0.05263091, 0.02856719, 0.09505358, 0.03642485, 0.03776817,\n",
       "       0.02742546, 0.01160854, 0.02355207, 0.03142566, 0.05074878,\n",
       "       0.03852613, 0.34312703, 0.0671417 , 0.08047542, 0.13176901,\n",
       "       0.05236518, 0.01100324, 0.06795058, 0.05493376, 0.22564459,\n",
       "       0.05654349, 0.17441302, 0.25215516, 0.05353612, 0.08743478,\n",
       "       0.07001362, 0.11456031, 0.10115793, 0.26730689, 0.14391033,\n",
       "       0.07976823, 0.0605618 , 0.04422342, 0.16426004, 0.03084183,\n",
       "       0.04650826, 0.03490219, 0.01082752, 0.12531231, 0.2687208 ,\n",
       "       0.06069656, 0.05028054, 0.11279997, 0.05609053, 0.03096275,\n",
       "       0.11306601, 0.13730521, 0.0163749 , 0.10500791, 0.08770563,\n",
       "       0.16477155, 0.02419335, 0.03468595, 0.12645523, 0.10014234,\n",
       "       0.13002125, 0.07679061, 0.20863388, 0.0586895 , 0.01702283,\n",
       "       0.13157008, 0.10157444, 0.11251456, 0.1281012 , 0.02063838,\n",
       "       0.03810909, 0.06456797, 0.08665817, 0.05849264, 0.08025686,\n",
       "       0.10864632, 0.10549998, 0.15022699, 0.04596673, 0.18816554,\n",
       "       0.14786964, 0.02019442, 0.1454871 , 0.03739356, 0.09373233,\n",
       "       0.04773796, 0.05656855, 0.05269486, 0.06783245, 0.04633184,\n",
       "       0.0249491 , 0.0448377 , 0.11915322, 0.11420644, 0.02274327,\n",
       "       0.28650133, 0.05587643, 0.03815845, 0.10763331, 0.01468145,\n",
       "       0.02245155, 0.01852159, 0.01611196, 0.17388417, 0.25134441,\n",
       "       0.02024205, 0.08592917, 0.29642851, 0.02711844, 0.11164587,\n",
       "       0.2249135 , 0.01936263, 0.17114977, 0.02040751, 0.02188221,\n",
       "       0.01554029, 0.27710809, 0.21042465, 0.12232065, 0.04664244,\n",
       "       0.46409713, 0.16998515, 0.13486881, 0.04849234, 0.09322782,\n",
       "       0.07711796, 0.06259036, 0.07904247, 0.02508305, 0.12882706,\n",
       "       0.16905065, 0.05219144, 0.10463646, 0.03599618, 0.10030804,\n",
       "       0.15478619, 0.03135887, 0.03943937, 0.0495034 , 0.2491152 ,\n",
       "       0.12467576, 0.02774917, 0.12767307, 0.05506836, 0.07083407,\n",
       "       0.10138393, 0.03476891, 0.14505783, 0.07226935, 0.00798976,\n",
       "       0.09603317, 0.05121532, 0.08177884, 0.03663788, 0.11478588,\n",
       "       0.1001245 , 0.07260746, 0.16348485, 0.28944046, 0.02718169,\n",
       "       0.03894679, 0.23142603, 0.05187798, 0.06986263, 0.19195031,\n",
       "       0.08443636, 0.07797833, 0.03328816, 0.06594591, 0.36187532,\n",
       "       0.02384019, 0.01548654, 0.05825701, 0.03950671, 0.01133725,\n",
       "       0.10813044, 0.08993706, 0.01286323, 0.21812031, 0.10551184,\n",
       "       0.02606275, 0.02112825, 0.09702008, 0.03263487, 0.08974982,\n",
       "       0.27380062, 0.04411316, 0.05676878, 0.06685343, 0.10790948,\n",
       "       0.04512463, 0.0462472 , 0.19603358, 0.09809783, 0.04193071,\n",
       "       0.44637463, 0.01792577, 0.27642955, 0.0171807 , 0.19315159,\n",
       "       0.01429184, 0.02687541, 0.09944092, 0.1353043 , 0.08834158,\n",
       "       0.0579381 , 0.08582888, 0.09428762, 0.09421107, 0.0563146 ,\n",
       "       0.07226043, 0.05692763, 0.18832117, 0.02907492, 0.05267515,\n",
       "       0.20081031, 0.04518047, 0.08298152, 0.03730572, 0.10481338,\n",
       "       0.03753036, 0.10458213, 0.05131436, 0.05298116, 0.03260686,\n",
       "       0.22551505, 0.04443427, 0.14539854, 0.01442287, 0.05111796,\n",
       "       0.05315504, 0.08805333, 0.13641301, 0.0425517 , 0.24234817,\n",
       "       0.0580015 , 0.11613385, 0.0470672 , 0.13055715, 0.03904485,\n",
       "       0.03247993, 0.0823916 , 0.0766914 , 0.01883174, 0.04821634,\n",
       "       0.04496481, 0.03981504, 0.14990245, 0.06408927, 0.09452192,\n",
       "       0.02558626, 0.03386656, 0.03158535, 0.02584548, 0.03953033,\n",
       "       0.03434618, 0.07863172, 0.00665961, 0.03470013, 0.10956723,\n",
       "       0.0517583 , 0.0458941 , 0.02642496, 0.11699634, 0.12131102,\n",
       "       0.07181886, 0.07620221, 0.19808168, 0.05196654, 0.114228  ,\n",
       "       0.07584469, 0.0165804 , 0.18103497, 0.05954729, 0.09345205,\n",
       "       0.1678413 , 0.12213795, 0.0519143 , 0.04080819, 0.05245161,\n",
       "       0.03720963, 0.05401117, 0.01020324, 0.02782767, 0.12260203,\n",
       "       0.09045077, 0.02847311, 0.16455295, 0.04640741, 0.02385946,\n",
       "       0.09989281, 0.09756555, 0.02684669, 0.0123987 , 0.07175781,\n",
       "       0.19092114, 0.04545538, 0.0183288 , 0.02529876, 0.01584257,\n",
       "       0.16162104, 0.03897842, 0.06698212, 0.04038796, 0.05186011,\n",
       "       0.02280847, 0.06547745, 0.11360417, 0.17816576, 0.03250646,\n",
       "       0.04331276, 0.11713088, 0.03684056, 0.01877195, 0.01998999,\n",
       "       0.06713995, 0.0865233 , 0.20537221, 0.08292283, 0.09606118,\n",
       "       0.02773138, 0.06893081, 0.0630742 , 0.18722684, 0.04286155,\n",
       "       0.08677136, 0.10829382, 0.0236169 , 0.04223184, 0.06826203,\n",
       "       0.01537906, 0.10594687, 0.12418495, 0.0586608 , 0.03775857,\n",
       "       0.03287126, 0.06454199, 0.07236211, 0.03079604, 0.22262495,\n",
       "       0.06892581, 0.0931369 , 0.0505284 , 0.12042384, 0.02671484,\n",
       "       0.01941391, 0.07680788, 0.09208583, 0.13879349, 0.16785241,\n",
       "       0.06454319, 0.05207901, 0.08571116, 0.07205723, 0.02658412,\n",
       "       0.16171454, 0.03929635, 0.08645176, 0.01830136, 0.04128274,\n",
       "       0.14412749, 0.03941474, 0.01323891, 0.14049536, 0.23242995,\n",
       "       0.03100077, 0.09402096, 0.2001747 , 0.03869768, 0.12840624,\n",
       "       0.04404709, 0.17864293, 0.02504589, 0.0086472 , 0.03102474,\n",
       "       0.42939853, 0.03050206, 0.05052847, 0.00709281, 0.03757312,\n",
       "       0.10636821, 0.09744356, 0.06051847, 0.0239666 , 0.122706  ,\n",
       "       0.0555719 , 0.01786243, 0.06785875, 0.15982904, 0.05321406,\n",
       "       0.01287118, 0.15397417, 0.10162758, 0.02255636, 0.01401771,\n",
       "       0.04848664, 0.03960523, 0.07921822, 0.0499116 , 0.02229029,\n",
       "       0.07312434, 0.1120937 , 0.02446127, 0.19985331, 0.21925913,\n",
       "       0.12912488, 0.02025126, 0.06191152, 0.07026572, 0.05526908,\n",
       "       0.25199008, 0.08035034, 0.20913842, 0.02508037, 0.30360534,\n",
       "       0.36888195, 0.13368306, 0.03081103, 0.04995395, 0.10607509,\n",
       "       0.04239788, 0.06088079, 0.05913838, 0.02885667, 0.03558363,\n",
       "       0.04980744, 0.26164174, 0.17825552, 0.02618051, 0.05936239,\n",
       "       0.09069624, 0.05421414, 0.01396848, 0.05143471, 0.05061932,\n",
       "       0.06724383, 0.07439493, 0.05170908, 0.02382774, 0.05115195,\n",
       "       0.18665295, 0.01697903, 0.07162538, 0.23557401, 0.01107456,\n",
       "       0.09076097, 0.0631969 , 0.02619679, 0.04667318, 0.12819715,\n",
       "       0.06693203, 0.29839034, 0.02650839, 0.0222855 , 0.32436316,\n",
       "       0.01665903, 0.11905135, 0.22259396, 0.14409111, 0.01357768,\n",
       "       0.18005943, 0.25990617, 0.01279857, 0.08529219, 0.09175426,\n",
       "       0.01441279, 0.02752248, 0.40073876, 0.04030573, 0.08290775,\n",
       "       0.11550747, 0.04761778, 0.10889673, 0.11997111, 0.10091061,\n",
       "       0.07663805, 0.09075819, 0.04366833, 0.25896047, 0.01893534,\n",
       "       0.03267486, 0.09033952, 0.06675234, 0.04568862, 0.15332928,\n",
       "       0.02744036, 0.05545632, 0.01750749, 0.08846744, 0.01934005,\n",
       "       0.04877203, 0.03851523, 0.17464142, 0.03190299, 0.32770496,\n",
       "       0.11548198, 0.03237936, 0.01642337, 0.13640158, 0.03129333,\n",
       "       0.05272552, 0.0879599 , 0.06118348, 0.31275463, 0.16990422,\n",
       "       0.05690971, 0.11980251, 0.09375534, 0.03181474, 0.26442495,\n",
       "       0.14258348, 0.03097313, 0.04708288, 0.1070531 , 0.02108172,\n",
       "       0.14565593, 0.06504732, 0.02684141, 0.05723723, 0.07001861,\n",
       "       0.03225014, 0.08859736, 0.13855477, 0.10215112, 0.06713371,\n",
       "       0.04780595, 0.030556  , 0.13282331, 0.07493513, 0.17717567,\n",
       "       0.07467542, 0.04062465, 0.05985527, 0.04736714, 0.03345627,\n",
       "       0.19637389, 0.01847655, 0.07663135, 0.02596563, 0.24029465,\n",
       "       0.09771708, 0.12516313, 0.10820517, 0.04087548, 0.07959849,\n",
       "       0.03702195, 0.01126258, 0.06555443, 0.03743877, 0.13860424,\n",
       "       0.12482694, 0.01770893, 0.03740182, 0.16669709, 0.01419316,\n",
       "       0.01558158, 0.03242899, 0.09855887, 0.01557111, 0.10490395,\n",
       "       0.15930176, 0.09668376, 0.02501085, 0.06442069, 0.03086584,\n",
       "       0.06550714, 0.13634482, 0.13477672, 0.02331882, 0.11380562,\n",
       "       0.10123643, 0.04261976, 0.02725319, 0.03942496, 0.12358662,\n",
       "       0.10771865, 0.09756832, 0.04331598, 0.05196465, 0.0247962 ,\n",
       "       0.13364041, 0.03084724, 0.16539819, 0.06115106, 0.06803183,\n",
       "       0.02029106, 0.16923416, 0.06743726, 0.05995712, 0.02347778,\n",
       "       0.03538498, 0.05314663, 0.00579921, 0.05230075, 0.10787646,\n",
       "       0.05028917, 0.39822132, 0.23264466, 0.02585101, 0.03519518,\n",
       "       0.03016287, 0.09228207, 0.1614367 , 0.10804498, 0.03377414,\n",
       "       0.04065035, 0.11166397, 0.01968418, 0.0677151 , 0.02865866,\n",
       "       0.10470143, 0.01616183, 0.04076908, 0.0810526 , 0.04487103,\n",
       "       0.05002212, 0.09281755, 0.10561327, 0.10422649, 0.05733081,\n",
       "       0.06357224, 0.24720833, 0.03273711, 0.07728931, 0.02743563,\n",
       "       0.04280449, 0.09087843, 0.29496405, 0.14202121, 0.0355696 ,\n",
       "       0.03416445, 0.07295249, 0.06196302, 0.07900496, 0.34473208,\n",
       "       0.02340018, 0.08864315, 0.04880412, 0.48731416, 0.11927596,\n",
       "       0.03787067, 0.2142211 , 0.06393463, 0.0509766 , 0.04492243,\n",
       "       0.04954621, 0.04192212, 0.15687783, 0.05063908, 0.03982021,\n",
       "       0.14223581, 0.01305275, 0.24785655, 0.06595196, 0.22706076,\n",
       "       0.01282087, 0.06131031, 0.08455423, 0.15694118, 0.01435686,\n",
       "       0.15945918, 0.1620059 , 0.03533642, 0.08132004, 0.0555588 ,\n",
       "       0.06567476, 0.03686546, 0.04396758, 0.1295595 , 0.24287431,\n",
       "       0.09844392, 0.0286904 , 0.10745676, 0.00910956, 0.07822513,\n",
       "       0.03358308, 0.03631908, 0.05323773, 0.14002259, 0.04733905,\n",
       "       0.0611069 , 0.03475999, 0.09597081, 0.0093891 , 0.08614283,\n",
       "       0.04690108, 0.01783341, 0.07488939, 0.03975706, 0.02184762,\n",
       "       0.06364744, 0.16249626, 0.14618901, 0.08331819, 0.07550654,\n",
       "       0.04675778, 0.03689604, 0.09720298, 0.08792804, 0.13027067,\n",
       "       0.05841285, 0.01493203, 0.2624162 , 0.03604163, 0.08011286,\n",
       "       0.07238102, 0.02220667, 0.01412301, 0.008843  , 0.27410624,\n",
       "       0.10762838, 0.10823674, 0.02977623, 0.05050492, 0.07501354,\n",
       "       0.12429978, 0.01297748, 0.02633947, 0.02466953, 0.1499037 ,\n",
       "       0.08990757, 0.06979191, 0.03972242, 0.02749512, 0.10092491,\n",
       "       0.15232231, 0.07946607, 0.04944477, 0.04367752, 0.06958704,\n",
       "       0.06192365, 0.08096153, 0.02320701, 0.04796497, 0.16533855,\n",
       "       0.01317839, 0.170216  , 0.19707463, 0.04279564, 0.05978007,\n",
       "       0.22135851, 0.06171928, 0.03249895, 0.07732045, 0.11023598,\n",
       "       0.18236733, 0.0369455 , 0.16101967, 0.16146057, 0.02999395,\n",
       "       0.07636411, 0.0371904 , 0.15881501, 0.08748881, 0.0306211 ,\n",
       "       0.03290715, 0.17547404, 0.02843329, 0.06876407, 0.10009755,\n",
       "       0.14489047, 0.02119596, 0.08339104, 0.04315289, 0.0343314 ,\n",
       "       0.10766236, 0.0731914 , 0.03563139, 0.1106845 , 0.12022063,\n",
       "       0.05621688, 0.20880513, 0.08536193, 0.09157372, 0.04640015,\n",
       "       0.19274986, 0.0421184 , 0.01844915, 0.05349683, 0.26826234,\n",
       "       0.061827  , 0.15314849, 0.01450088, 0.23116014, 0.0167047 ,\n",
       "       0.28555743, 0.05621591, 0.06568221, 0.0239883 , 0.09668273,\n",
       "       0.00924612, 0.04659596, 0.06177653, 0.04676011, 0.01338116,\n",
       "       0.17739993, 0.02706304, 0.08558573, 0.03412641, 0.1077098 ,\n",
       "       0.08244981, 0.10704987, 0.03201843, 0.02696427, 0.07213344,\n",
       "       0.080248  , 0.06397546, 0.0423661 , 0.10341334, 0.06304026,\n",
       "       0.05292498, 0.10104586, 0.01461389, 0.05911521, 0.02182079,\n",
       "       0.14779574, 0.11576133, 0.03528029, 0.065923  , 0.05054616,\n",
       "       0.15737935, 0.04677643, 0.03060665, 0.05527907, 0.07237707,\n",
       "       0.0859952 , 0.17059769, 0.01992709, 0.05181187, 0.0730377 ,\n",
       "       0.02408059, 0.16137869, 0.09221941, 0.15588154, 0.06880594,\n",
       "       0.00877691, 0.1716987 , 0.13589987, 0.28681355, 0.13044074,\n",
       "       0.07131704, 0.11966338, 0.044697  , 0.06678618, 0.06384616,\n",
       "       0.02921564, 0.17170444, 0.11718708, 0.03433318, 0.16305805,\n",
       "       0.0450462 , 0.17619255, 0.11270711, 0.13417935, 0.14727036,\n",
       "       0.03276681, 0.00992259, 0.11030277, 0.28499856, 0.04556713,\n",
       "       0.09117727, 0.0221153 , 0.04582928, 0.07688645, 0.03562784,\n",
       "       0.12482574, 0.0382825 , 0.0233941 , 0.3548723 , 0.19265597,\n",
       "       0.0341121 , 0.04476443, 0.0545292 , 0.06256315, 0.08812737,\n",
       "       0.13020292, 0.11100819, 0.05362266, 0.07670289, 0.06296338,\n",
       "       0.07261127, 0.08231955, 0.26962445, 0.10010627, 0.12302315,\n",
       "       0.06409532, 0.01191096, 0.09399808, 0.13230079, 0.10858772,\n",
       "       0.42712754, 0.02574059, 0.13899791, 0.21213692, 0.0525743 ,\n",
       "       0.08757014, 0.03839211, 0.04315197, 0.02384608, 0.05682358,\n",
       "       0.16252965, 0.06518852, 0.17124518, 0.42384464, 0.05632848])"
      ]
     },
     "execution_count": 92,
     "metadata": {},
     "output_type": "execute_result"
    }
   ],
   "source": [
    "kaggle_pred = logreg.predict_proba(test)[:, 1]\n",
    "kaggle_pred[:1000]"
   ]
  },
  {
   "cell_type": "code",
   "execution_count": 93,
   "metadata": {
    "scrolled": true
   },
   "outputs": [
    {
     "name": "stdout",
     "output_type": "stream",
     "text": [
      "[0.05528104 0.2027535  0.03848081 ... 0.05196622 0.05362647 0.1270166 ]\n"
     ]
    },
    {
     "name": "stderr",
     "output_type": "stream",
     "text": [
      "/Volumes/Macintosh HD /Users/stephanviollier/CodingProjects/ix/venv/lib/python3.6/site-packages/ipykernel_launcher.py:5: SettingWithCopyWarning: \n",
      "A value is trying to be set on a copy of a slice from a DataFrame.\n",
      "Try using .loc[row_indexer,col_indexer] = value instead\n",
      "\n",
      "See the caveats in the documentation: http://pandas.pydata.org/pandas-docs/stable/indexing.html#indexing-view-versus-copy\n",
      "  \"\"\"\n"
     ]
    }
   ],
   "source": [
    "# Submission dataframe\n",
    "submit = app_test[['SK_ID_CURR']]\n",
    "# print(submit)\n",
    "print(np.array(kaggle_pred))\n",
    "submit['TARGET'] = kaggle_pred\n",
    "# print(submit)\n",
    "\n",
    "submit.head()\n",
    "\n",
    "# Save the submission to a csv file\n",
    "submit.to_csv('kaggle_pred.csv', index = False) \n",
    "\n",
    "##Score: 0.739"
   ]
  },
  {
   "cell_type": "code",
   "execution_count": null,
   "metadata": {},
   "outputs": [],
   "source": [
    "###comments next try runnin logreg running C default or C=0.5 on full training set"
   ]
  },
  {
   "cell_type": "code",
   "execution_count": 95,
   "metadata": {},
   "outputs": [
    {
     "data": {
      "image/png": "[encoded data removed]",
      "text/plain": [
       "<Figure size 432x288 with 1 Axes>"
      ]
     },
     "metadata": {},
     "output_type": "display_data"
    }
   ],
   "source": [
    "from sklearn.metrics import roc_curve\n",
    "\n",
    "# Compute predicted probabilities: y_pred_prob\n",
    "y_pred_prob = logreg.predict_proba(X_test)[:,1]\n",
    "\n",
    "# Generate ROC curve values: fpr, tpr, thresholds\n",
    "fpr, tpr, thresholds = roc_curve(y_test, y_pred_prob)\n",
    "\n",
    "# Plot ROC curve\n",
    "plt.plot([0, 1], [0, 1], 'k--')\n",
    "plt.plot(fpr, tpr)\n",
    "plt.xlabel('False Positive Rate')\n",
    "plt.ylabel('True Positive Rate')\n",
    "plt.title('ROC Curve')\n",
    "plt.show()"
   ]
  },
  {
   "cell_type": "code",
   "execution_count": 98,
   "metadata": {},
   "outputs": [
    {
     "name": "stdout",
     "output_type": "stream",
     "text": [
      "0.9193524785308198\n",
      "0.9194110133711233\n"
     ]
    }
   ],
   "source": [
    "##Cross Validation\n",
    "from sklearn.linear_model import LinearRegression\n",
    "from sklearn.model_selection import cross_val_score\n",
    "\n",
    "# Perform 3-fold CV\n",
    "cvscores_3 = cross_val_score(logreg,train,target,cv=3)\n",
    "print(np.mean(cvscores_3))"
   ]
  },
  {
   "cell_type": "code",
   "execution_count": 99,
   "metadata": {},
   "outputs": [
    {
     "ename": "KeyboardInterrupt",
     "evalue": "",
     "output_type": "error",
     "traceback": [
      "\u001b[0;31m---------------------------------------------------------------------------\u001b[0m",
      "\u001b[0;31mKeyboardInterrupt\u001b[0m                         Traceback (most recent call last)",
      "\u001b[0;32m<ipython-input-99-3816d2efcfe3>\u001b[0m in \u001b[0;36m<module>\u001b[0;34m()\u001b[0m\n\u001b[1;32m     14\u001b[0m \u001b[0;34m\u001b[0m\u001b[0m\n\u001b[1;32m     15\u001b[0m \u001b[0;31m# Fit it to the data\u001b[0m\u001b[0;34m\u001b[0m\u001b[0;34m\u001b[0m\u001b[0m\n\u001b[0;32m---> 16\u001b[0;31m \u001b[0mlogreg_cv\u001b[0m\u001b[0;34m.\u001b[0m\u001b[0mfit\u001b[0m\u001b[0;34m(\u001b[0m\u001b[0mtrain\u001b[0m\u001b[0;34m,\u001b[0m\u001b[0mtarget\u001b[0m\u001b[0;34m)\u001b[0m\u001b[0;34m\u001b[0m\u001b[0m\n\u001b[0m\u001b[1;32m     17\u001b[0m \u001b[0;34m\u001b[0m\u001b[0m\n\u001b[1;32m     18\u001b[0m \u001b[0;31m# Print the tuned parameters and score\u001b[0m\u001b[0;34m\u001b[0m\u001b[0;34m\u001b[0m\u001b[0m\n",
      "\u001b[0;32m~/CodingProjects/ix/venv/lib/python3.6/site-packages/sklearn/model_selection/_search.py\u001b[0m in \u001b[0;36mfit\u001b[0;34m(self, X, y, groups, **fit_params)\u001b[0m\n\u001b[1;32m    637\u001b[0m                                   error_score=self.error_score)\n\u001b[1;32m    638\u001b[0m           for parameters, (train, test) in product(candidate_params,\n\u001b[0;32m--> 639\u001b[0;31m                                                    cv.split(X, y, groups)))\n\u001b[0m\u001b[1;32m    640\u001b[0m \u001b[0;34m\u001b[0m\u001b[0m\n\u001b[1;32m    641\u001b[0m         \u001b[0;31m# if one choose to see train score, \"out\" will contain train score info\u001b[0m\u001b[0;34m\u001b[0m\u001b[0;34m\u001b[0m\u001b[0m\n",
      "\u001b[0;32m~/CodingProjects/ix/venv/lib/python3.6/site-packages/sklearn/externals/joblib/parallel.py\u001b[0m in \u001b[0;36m__call__\u001b[0;34m(self, iterable)\u001b[0m\n\u001b[1;32m    777\u001b[0m             \u001b[0;31m# was dispatched. In particular this covers the edge\u001b[0m\u001b[0;34m\u001b[0m\u001b[0;34m\u001b[0m\u001b[0m\n\u001b[1;32m    778\u001b[0m             \u001b[0;31m# case of Parallel used with an exhausted iterator.\u001b[0m\u001b[0;34m\u001b[0m\u001b[0;34m\u001b[0m\u001b[0m\n\u001b[0;32m--> 779\u001b[0;31m             \u001b[0;32mwhile\u001b[0m \u001b[0mself\u001b[0m\u001b[0;34m.\u001b[0m\u001b[0mdispatch_one_batch\u001b[0m\u001b[0;34m(\u001b[0m\u001b[0miterator\u001b[0m\u001b[0;34m)\u001b[0m\u001b[0;34m:\u001b[0m\u001b[0;34m\u001b[0m\u001b[0m\n\u001b[0m\u001b[1;32m    780\u001b[0m                 \u001b[0mself\u001b[0m\u001b[0;34m.\u001b[0m\u001b[0m_iterating\u001b[0m \u001b[0;34m=\u001b[0m \u001b[0;32mTrue\u001b[0m\u001b[0;34m\u001b[0m\u001b[0m\n\u001b[1;32m    781\u001b[0m             \u001b[0;32melse\u001b[0m\u001b[0;34m:\u001b[0m\u001b[0;34m\u001b[0m\u001b[0m\n",
      "\u001b[0;32m~/CodingProjects/ix/venv/lib/python3.6/site-packages/sklearn/externals/joblib/parallel.py\u001b[0m in \u001b[0;36mdispatch_one_batch\u001b[0;34m(self, iterator)\u001b[0m\n\u001b[1;32m    623\u001b[0m                 \u001b[0;32mreturn\u001b[0m \u001b[0;32mFalse\u001b[0m\u001b[0;34m\u001b[0m\u001b[0m\n\u001b[1;32m    624\u001b[0m             \u001b[0;32melse\u001b[0m\u001b[0;34m:\u001b[0m\u001b[0;34m\u001b[0m\u001b[0m\n\u001b[0;32m--> 625\u001b[0;31m                 \u001b[0mself\u001b[0m\u001b[0;34m.\u001b[0m\u001b[0m_dispatch\u001b[0m\u001b[0;34m(\u001b[0m\u001b[0mtasks\u001b[0m\u001b[0;34m)\u001b[0m\u001b[0;34m\u001b[0m\u001b[0m\n\u001b[0m\u001b[1;32m    626\u001b[0m                 \u001b[0;32mreturn\u001b[0m \u001b[0;32mTrue\u001b[0m\u001b[0;34m\u001b[0m\u001b[0m\n\u001b[1;32m    627\u001b[0m \u001b[0;34m\u001b[0m\u001b[0m\n",
      "\u001b[0;32m~/CodingProjects/ix/venv/lib/python3.6/site-packages/sklearn/externals/joblib/parallel.py\u001b[0m in \u001b[0;36m_dispatch\u001b[0;34m(self, batch)\u001b[0m\n\u001b[1;32m    586\u001b[0m         \u001b[0mdispatch_timestamp\u001b[0m \u001b[0;34m=\u001b[0m \u001b[0mtime\u001b[0m\u001b[0;34m.\u001b[0m\u001b[0mtime\u001b[0m\u001b[0;34m(\u001b[0m\u001b[0;34m)\u001b[0m\u001b[0;34m\u001b[0m\u001b[0m\n\u001b[1;32m    587\u001b[0m         \u001b[0mcb\u001b[0m \u001b[0;34m=\u001b[0m \u001b[0mBatchCompletionCallBack\u001b[0m\u001b[0;34m(\u001b[0m\u001b[0mdispatch_timestamp\u001b[0m\u001b[0;34m,\u001b[0m \u001b[0mlen\u001b[0m\u001b[0;34m(\u001b[0m\u001b[0mbatch\u001b[0m\u001b[0;34m)\u001b[0m\u001b[0;34m,\u001b[0m \u001b[0mself\u001b[0m\u001b[0;34m)\u001b[0m\u001b[0;34m\u001b[0m\u001b[0m\n\u001b[0;32m--> 588\u001b[0;31m         \u001b[0mjob\u001b[0m \u001b[0;34m=\u001b[0m \u001b[0mself\u001b[0m\u001b[0;34m.\u001b[0m\u001b[0m_backend\u001b[0m\u001b[0;34m.\u001b[0m\u001b[0mapply_async\u001b[0m\u001b[0;34m(\u001b[0m\u001b[0mbatch\u001b[0m\u001b[0;34m,\u001b[0m \u001b[0mcallback\u001b[0m\u001b[0;34m=\u001b[0m\u001b[0mcb\u001b[0m\u001b[0;34m)\u001b[0m\u001b[0;34m\u001b[0m\u001b[0m\n\u001b[0m\u001b[1;32m    589\u001b[0m         \u001b[0mself\u001b[0m\u001b[0;34m.\u001b[0m\u001b[0m_jobs\u001b[0m\u001b[0;34m.\u001b[0m\u001b[0mappend\u001b[0m\u001b[0;34m(\u001b[0m\u001b[0mjob\u001b[0m\u001b[0;34m)\u001b[0m\u001b[0;34m\u001b[0m\u001b[0m\n\u001b[1;32m    590\u001b[0m \u001b[0;34m\u001b[0m\u001b[0m\n",
      "\u001b[0;32m~/CodingProjects/ix/venv/lib/python3.6/site-packages/sklearn/externals/joblib/_parallel_backends.py\u001b[0m in \u001b[0;36mapply_async\u001b[0;34m(self, func, callback)\u001b[0m\n\u001b[1;32m    109\u001b[0m     \u001b[0;32mdef\u001b[0m \u001b[0mapply_async\u001b[0m\u001b[0;34m(\u001b[0m\u001b[0mself\u001b[0m\u001b[0;34m,\u001b[0m \u001b[0mfunc\u001b[0m\u001b[0;34m,\u001b[0m \u001b[0mcallback\u001b[0m\u001b[0;34m=\u001b[0m\u001b[0;32mNone\u001b[0m\u001b[0;34m)\u001b[0m\u001b[0;34m:\u001b[0m\u001b[0;34m\u001b[0m\u001b[0m\n\u001b[1;32m    110\u001b[0m         \u001b[0;34m\"\"\"Schedule a func to be run\"\"\"\u001b[0m\u001b[0;34m\u001b[0m\u001b[0m\n\u001b[0;32m--> 111\u001b[0;31m         \u001b[0mresult\u001b[0m \u001b[0;34m=\u001b[0m \u001b[0mImmediateResult\u001b[0m\u001b[0;34m(\u001b[0m\u001b[0mfunc\u001b[0m\u001b[0;34m)\u001b[0m\u001b[0;34m\u001b[0m\u001b[0m\n\u001b[0m\u001b[1;32m    112\u001b[0m         \u001b[0;32mif\u001b[0m \u001b[0mcallback\u001b[0m\u001b[0;34m:\u001b[0m\u001b[0;34m\u001b[0m\u001b[0m\n\u001b[1;32m    113\u001b[0m             \u001b[0mcallback\u001b[0m\u001b[0;34m(\u001b[0m\u001b[0mresult\u001b[0m\u001b[0;34m)\u001b[0m\u001b[0;34m\u001b[0m\u001b[0m\n",
      "\u001b[0;32m~/CodingProjects/ix/venv/lib/python3.6/site-packages/sklearn/externals/joblib/_parallel_backends.py\u001b[0m in \u001b[0;36m__init__\u001b[0;34m(self, batch)\u001b[0m\n\u001b[1;32m    330\u001b[0m         \u001b[0;31m# Don't delay the application, to avoid keeping the input\u001b[0m\u001b[0;34m\u001b[0m\u001b[0;34m\u001b[0m\u001b[0m\n\u001b[1;32m    331\u001b[0m         \u001b[0;31m# arguments in memory\u001b[0m\u001b[0;34m\u001b[0m\u001b[0;34m\u001b[0m\u001b[0m\n\u001b[0;32m--> 332\u001b[0;31m         \u001b[0mself\u001b[0m\u001b[0;34m.\u001b[0m\u001b[0mresults\u001b[0m \u001b[0;34m=\u001b[0m \u001b[0mbatch\u001b[0m\u001b[0;34m(\u001b[0m\u001b[0;34m)\u001b[0m\u001b[0;34m\u001b[0m\u001b[0m\n\u001b[0m\u001b[1;32m    333\u001b[0m \u001b[0;34m\u001b[0m\u001b[0m\n\u001b[1;32m    334\u001b[0m     \u001b[0;32mdef\u001b[0m \u001b[0mget\u001b[0m\u001b[0;34m(\u001b[0m\u001b[0mself\u001b[0m\u001b[0;34m)\u001b[0m\u001b[0;34m:\u001b[0m\u001b[0;34m\u001b[0m\u001b[0m\n",
      "\u001b[0;32m~/CodingProjects/ix/venv/lib/python3.6/site-packages/sklearn/externals/joblib/parallel.py\u001b[0m in \u001b[0;36m__call__\u001b[0;34m(self)\u001b[0m\n\u001b[1;32m    129\u001b[0m \u001b[0;34m\u001b[0m\u001b[0m\n\u001b[1;32m    130\u001b[0m     \u001b[0;32mdef\u001b[0m \u001b[0m__call__\u001b[0m\u001b[0;34m(\u001b[0m\u001b[0mself\u001b[0m\u001b[0;34m)\u001b[0m\u001b[0;34m:\u001b[0m\u001b[0;34m\u001b[0m\u001b[0m\n\u001b[0;32m--> 131\u001b[0;31m         \u001b[0;32mreturn\u001b[0m \u001b[0;34m[\u001b[0m\u001b[0mfunc\u001b[0m\u001b[0;34m(\u001b[0m\u001b[0;34m*\u001b[0m\u001b[0margs\u001b[0m\u001b[0;34m,\u001b[0m \u001b[0;34m**\u001b[0m\u001b[0mkwargs\u001b[0m\u001b[0;34m)\u001b[0m \u001b[0;32mfor\u001b[0m \u001b[0mfunc\u001b[0m\u001b[0;34m,\u001b[0m \u001b[0margs\u001b[0m\u001b[0;34m,\u001b[0m \u001b[0mkwargs\u001b[0m \u001b[0;32min\u001b[0m \u001b[0mself\u001b[0m\u001b[0;34m.\u001b[0m\u001b[0mitems\u001b[0m\u001b[0;34m]\u001b[0m\u001b[0;34m\u001b[0m\u001b[0m\n\u001b[0m\u001b[1;32m    132\u001b[0m \u001b[0;34m\u001b[0m\u001b[0m\n\u001b[1;32m    133\u001b[0m     \u001b[0;32mdef\u001b[0m \u001b[0m__len__\u001b[0m\u001b[0;34m(\u001b[0m\u001b[0mself\u001b[0m\u001b[0;34m)\u001b[0m\u001b[0;34m:\u001b[0m\u001b[0;34m\u001b[0m\u001b[0m\n",
      "\u001b[0;32m~/CodingProjects/ix/venv/lib/python3.6/site-packages/sklearn/externals/joblib/parallel.py\u001b[0m in \u001b[0;36m<listcomp>\u001b[0;34m(.0)\u001b[0m\n\u001b[1;32m    129\u001b[0m \u001b[0;34m\u001b[0m\u001b[0m\n\u001b[1;32m    130\u001b[0m     \u001b[0;32mdef\u001b[0m \u001b[0m__call__\u001b[0m\u001b[0;34m(\u001b[0m\u001b[0mself\u001b[0m\u001b[0;34m)\u001b[0m\u001b[0;34m:\u001b[0m\u001b[0;34m\u001b[0m\u001b[0m\n\u001b[0;32m--> 131\u001b[0;31m         \u001b[0;32mreturn\u001b[0m \u001b[0;34m[\u001b[0m\u001b[0mfunc\u001b[0m\u001b[0;34m(\u001b[0m\u001b[0;34m*\u001b[0m\u001b[0margs\u001b[0m\u001b[0;34m,\u001b[0m \u001b[0;34m**\u001b[0m\u001b[0mkwargs\u001b[0m\u001b[0;34m)\u001b[0m \u001b[0;32mfor\u001b[0m \u001b[0mfunc\u001b[0m\u001b[0;34m,\u001b[0m \u001b[0margs\u001b[0m\u001b[0;34m,\u001b[0m \u001b[0mkwargs\u001b[0m \u001b[0;32min\u001b[0m \u001b[0mself\u001b[0m\u001b[0;34m.\u001b[0m\u001b[0mitems\u001b[0m\u001b[0;34m]\u001b[0m\u001b[0;34m\u001b[0m\u001b[0m\n\u001b[0m\u001b[1;32m    132\u001b[0m \u001b[0;34m\u001b[0m\u001b[0m\n\u001b[1;32m    133\u001b[0m     \u001b[0;32mdef\u001b[0m \u001b[0m__len__\u001b[0m\u001b[0;34m(\u001b[0m\u001b[0mself\u001b[0m\u001b[0;34m)\u001b[0m\u001b[0;34m:\u001b[0m\u001b[0;34m\u001b[0m\u001b[0m\n",
      "\u001b[0;32m~/CodingProjects/ix/venv/lib/python3.6/site-packages/sklearn/model_selection/_validation.py\u001b[0m in \u001b[0;36m_fit_and_score\u001b[0;34m(estimator, X, y, scorer, train, test, verbose, parameters, fit_params, return_train_score, return_parameters, return_n_test_samples, return_times, error_score)\u001b[0m\n\u001b[1;32m    456\u001b[0m             \u001b[0mestimator\u001b[0m\u001b[0;34m.\u001b[0m\u001b[0mfit\u001b[0m\u001b[0;34m(\u001b[0m\u001b[0mX_train\u001b[0m\u001b[0;34m,\u001b[0m \u001b[0;34m**\u001b[0m\u001b[0mfit_params\u001b[0m\u001b[0;34m)\u001b[0m\u001b[0;34m\u001b[0m\u001b[0m\n\u001b[1;32m    457\u001b[0m         \u001b[0;32melse\u001b[0m\u001b[0;34m:\u001b[0m\u001b[0;34m\u001b[0m\u001b[0m\n\u001b[0;32m--> 458\u001b[0;31m             \u001b[0mestimator\u001b[0m\u001b[0;34m.\u001b[0m\u001b[0mfit\u001b[0m\u001b[0;34m(\u001b[0m\u001b[0mX_train\u001b[0m\u001b[0;34m,\u001b[0m \u001b[0my_train\u001b[0m\u001b[0;34m,\u001b[0m \u001b[0;34m**\u001b[0m\u001b[0mfit_params\u001b[0m\u001b[0;34m)\u001b[0m\u001b[0;34m\u001b[0m\u001b[0m\n\u001b[0m\u001b[1;32m    459\u001b[0m \u001b[0;34m\u001b[0m\u001b[0m\n\u001b[1;32m    460\u001b[0m     \u001b[0;32mexcept\u001b[0m \u001b[0mException\u001b[0m \u001b[0;32mas\u001b[0m \u001b[0me\u001b[0m\u001b[0;34m:\u001b[0m\u001b[0;34m\u001b[0m\u001b[0m\n",
      "\u001b[0;32m~/CodingProjects/ix/venv/lib/python3.6/site-packages/sklearn/linear_model/logistic.py\u001b[0m in \u001b[0;36mfit\u001b[0;34m(self, X, y, sample_weight)\u001b[0m\n\u001b[1;32m   1231\u001b[0m                 \u001b[0mself\u001b[0m\u001b[0;34m.\u001b[0m\u001b[0mclass_weight\u001b[0m\u001b[0;34m,\u001b[0m \u001b[0mself\u001b[0m\u001b[0;34m.\u001b[0m\u001b[0mpenalty\u001b[0m\u001b[0;34m,\u001b[0m \u001b[0mself\u001b[0m\u001b[0;34m.\u001b[0m\u001b[0mdual\u001b[0m\u001b[0;34m,\u001b[0m \u001b[0mself\u001b[0m\u001b[0;34m.\u001b[0m\u001b[0mverbose\u001b[0m\u001b[0;34m,\u001b[0m\u001b[0;34m\u001b[0m\u001b[0m\n\u001b[1;32m   1232\u001b[0m                 \u001b[0mself\u001b[0m\u001b[0;34m.\u001b[0m\u001b[0mmax_iter\u001b[0m\u001b[0;34m,\u001b[0m \u001b[0mself\u001b[0m\u001b[0;34m.\u001b[0m\u001b[0mtol\u001b[0m\u001b[0;34m,\u001b[0m \u001b[0mself\u001b[0m\u001b[0;34m.\u001b[0m\u001b[0mrandom_state\u001b[0m\u001b[0;34m,\u001b[0m\u001b[0;34m\u001b[0m\u001b[0m\n\u001b[0;32m-> 1233\u001b[0;31m                 sample_weight=sample_weight)\n\u001b[0m\u001b[1;32m   1234\u001b[0m             \u001b[0mself\u001b[0m\u001b[0;34m.\u001b[0m\u001b[0mn_iter_\u001b[0m \u001b[0;34m=\u001b[0m \u001b[0mnp\u001b[0m\u001b[0;34m.\u001b[0m\u001b[0marray\u001b[0m\u001b[0;34m(\u001b[0m\u001b[0;34m[\u001b[0m\u001b[0mn_iter_\u001b[0m\u001b[0;34m]\u001b[0m\u001b[0;34m)\u001b[0m\u001b[0;34m\u001b[0m\u001b[0m\n\u001b[1;32m   1235\u001b[0m             \u001b[0;32mreturn\u001b[0m \u001b[0mself\u001b[0m\u001b[0;34m\u001b[0m\u001b[0m\n",
      "\u001b[0;32m~/CodingProjects/ix/venv/lib/python3.6/site-packages/sklearn/svm/base.py\u001b[0m in \u001b[0;36m_fit_liblinear\u001b[0;34m(X, y, C, fit_intercept, intercept_scaling, class_weight, penalty, dual, verbose, max_iter, tol, random_state, multi_class, loss, epsilon, sample_weight)\u001b[0m\n\u001b[1;32m    888\u001b[0m         \u001b[0mX\u001b[0m\u001b[0;34m,\u001b[0m \u001b[0my_ind\u001b[0m\u001b[0;34m,\u001b[0m \u001b[0msp\u001b[0m\u001b[0;34m.\u001b[0m\u001b[0misspmatrix\u001b[0m\u001b[0;34m(\u001b[0m\u001b[0mX\u001b[0m\u001b[0;34m)\u001b[0m\u001b[0;34m,\u001b[0m \u001b[0msolver_type\u001b[0m\u001b[0;34m,\u001b[0m \u001b[0mtol\u001b[0m\u001b[0;34m,\u001b[0m \u001b[0mbias\u001b[0m\u001b[0;34m,\u001b[0m \u001b[0mC\u001b[0m\u001b[0;34m,\u001b[0m\u001b[0;34m\u001b[0m\u001b[0m\n\u001b[1;32m    889\u001b[0m         \u001b[0mclass_weight_\u001b[0m\u001b[0;34m,\u001b[0m \u001b[0mmax_iter\u001b[0m\u001b[0;34m,\u001b[0m \u001b[0mrnd\u001b[0m\u001b[0;34m.\u001b[0m\u001b[0mrandint\u001b[0m\u001b[0;34m(\u001b[0m\u001b[0mnp\u001b[0m\u001b[0;34m.\u001b[0m\u001b[0miinfo\u001b[0m\u001b[0;34m(\u001b[0m\u001b[0;34m'i'\u001b[0m\u001b[0;34m)\u001b[0m\u001b[0;34m.\u001b[0m\u001b[0mmax\u001b[0m\u001b[0;34m)\u001b[0m\u001b[0;34m,\u001b[0m\u001b[0;34m\u001b[0m\u001b[0m\n\u001b[0;32m--> 890\u001b[0;31m         epsilon, sample_weight)\n\u001b[0m\u001b[1;32m    891\u001b[0m     \u001b[0;31m# Regarding rnd.randint(..) in the above signature:\u001b[0m\u001b[0;34m\u001b[0m\u001b[0;34m\u001b[0m\u001b[0m\n\u001b[1;32m    892\u001b[0m     \u001b[0;31m# seed for srand in range [0..INT_MAX); due to limitations in Numpy\u001b[0m\u001b[0;34m\u001b[0m\u001b[0;34m\u001b[0m\u001b[0m\n",
      "\u001b[0;31mKeyboardInterrupt\u001b[0m: "
     ]
    }
   ],
   "source": [
    "# Hyperparameter tuning with GridSearchCV (find best C for logreg)\n",
    "\n",
    "#Import necessary modules\n",
    "from sklearn.linear_model import LogisticRegression\n",
    "from sklearn.model_selection import GridSearchCV\n",
    "\n",
    "# Setup the hyperparameter grid\n",
    "c_space = np.logspace(-5, 8, 15)\n",
    "param_grid = {'C': c_space}\n",
    "\n",
    "# Instantiate a logistic regression classifier: logreg\n",
    "logreg = LogisticRegression()\n",
    "\n",
    "# Instantiate the GridSearchCV object: logreg_cv\n",
    "logreg_cv = GridSearchCV(logreg,param_grid,cv=5)\n",
    "\n",
    "# Fit it to the data\n",
    "logreg_cv.fit(train,target)\n",
    "\n",
    "# Print the tuned parameters and score\n",
    "print(\"Tuned Logistic Regression Parameters: {}\".format(logreg_cv.best_params_)) \n",
    "print(\"Best score is {}\".format(logreg_cv.best_score_))"
   ]
  },
  {
   "cell_type": "code",
   "execution_count": null,
   "metadata": {},
   "outputs": [],
   "source": [
    "##Hyperparameter tuning with RandomizedSearchCV (find best C for logreg)\n",
    "\n",
    "#Import necessary modules\n",
    "from sklearn.linear_model import LogisticRegression\n",
    "from sklearn.model_selection import RandomizedSearchCV\n",
    "\n",
    "# Setup the hyperparameter grid\n",
    "c_space = np.logspace(-5, 8, 15)\n",
    "param_grid = {'C': c_space}\n",
    "\n",
    "# Instantiate a logistic regression classifier: logreg\n",
    "logreg = LogisticRegression()\n",
    "\n",
    "# Instantiate the RandomizedSearchCV object: logreg_cv\n",
    "logreg_cv = RandomizedSearchCV(logreg,param_grid,cv=5)\n",
    "\n",
    "# Fit it to the data\n",
    "logreg_cv.fit(train,target)\n",
    "\n",
    "# Print the tuned parameters and score\n",
    "print(\"Tuned Logistic Regression Parameters: {}\".format(logreg_cv.best_params_)) \n",
    "print(\"Best score is {}\".format(logreg_cv.best_score_))"
   ]
  },
  {
   "cell_type": "code",
   "execution_count": null,
   "metadata": {},
   "outputs": [],
   "source": []
  }
 ],
 "metadata": {
  "kernelspec": {
   "display_name": "Python 3",
   "language": "python",
   "name": "python3"
  },
  "language_info": {
   "codemirror_mode": {
    "name": "ipython",
    "version": 3
   },
   "file_extension": ".py",
   "mimetype": "text/x-python",
   "name": "python",
   "nbconvert_exporter": "python",
   "pygments_lexer": "ipython3",
   "version": "3.6.5"
  }
 },
 "nbformat": 4,
 "nbformat_minor": 2
}

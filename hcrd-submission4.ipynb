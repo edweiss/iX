{
 "cells": [
  {
   "cell_type": "code",
   "execution_count": 1,
   "metadata": {},
   "outputs": [
    {
     "data": {
      "text/plain": [
       "(307511, 122)"
      ]
     },
     "execution_count": 1,
     "metadata": {},
     "output_type": "execute_result"
    }
   ],
   "source": [
    "from sklearn import datasets\n",
    "import pandas as pd\n",
    "import numpy as np\n",
    "import matplotlib.pyplot as plt\n",
    "import seaborn as sns\n",
    "\n",
    "# sklearn preprocessing for dealing with categorical variables\n",
    "from sklearn.preprocessing import LabelEncoder\n",
    "\n",
    "# File system manangement\n",
    "import os\n",
    "\n",
    "# Suppress warnings \n",
    "# import warnings\n",
    "# warnings.filterwarnings('ignore')\n",
    "\n",
    "plt.style.use('ggplot')\n",
    "\n",
    "## Read & Format Data\n",
    "df_test = pd.read_csv('all/application_test.csv')\n",
    "df_train = pd.read_csv('all/application_train.csv')\n",
    "df_train.head()\n",
    "df_train.shape\n"
   ]
  },
  {
   "cell_type": "code",
   "execution_count": 2,
   "metadata": {},
   "outputs": [
    {
     "name": "stdout",
     "output_type": "stream",
     "text": [
      "Training data shape:  (307511, 122)\n",
      "Testing data shape:  (48744, 121)\n",
      "Your selected dataframe has 122 columns.\n",
      "There are 67 columns that have missing values.\n",
      "float64    65\n",
      "int64      41\n",
      "object     16\n",
      "dtype: int64\n"
     ]
    }
   ],
   "source": [
    "pd.set_option('display.max_columns', None)\n",
    "\n",
    "##Testing data\n",
    "print('Training data shape: ', df_train.shape)\n",
    "df_train.head()\n",
    "\n",
    "##Testing data\n",
    "print('Testing data shape: ', df_test.shape)\n",
    "df_test.head()\n",
    "\n",
    "###\n",
    "#EDA: Exploratory Data Analisys \n",
    "####\n",
    "\n",
    "##Examine missing values\n",
    "\n",
    "def missing_values_table(df):\n",
    "    \n",
    "    # Total missing values\n",
    "    mis_val = df_train.isnull().sum()\n",
    "\n",
    "    # Percentage of missing values\n",
    "    mis_val_percent = 100 * df_train.isnull().sum() / len(df_train)\n",
    "\n",
    "    # Make a table with the results\n",
    "    mis_val_table = pd.concat([mis_val, mis_val_percent], axis=1)\n",
    "    # print(mis_val_table)\n",
    "\n",
    "    # Rename the columns\n",
    "    mis_val_table_ren_columns = mis_val_table.rename(\n",
    "    columns = {0 : 'Missing Values', 1 : '% of Total Values'})\n",
    "    # print(mis_val_table_ren_columns)\n",
    "\n",
    "    # Sort the table by percentage of missing descending\n",
    "    mis_val_table_ren_columns = mis_val_table_ren_columns[\n",
    "        mis_val_table_ren_columns.iloc[:,1] != 0].sort_values('% of Total Values', ascending=False).round(1)\n",
    "\n",
    "    # Print some summary information\n",
    "    print (\"Your selected dataframe has \" + str(df.shape[1]) + \" columns.\\n\"\n",
    "            \"There are \" + str(mis_val_table_ren_columns.shape[0]) + \n",
    "           \" columns that have missing values.\")\n",
    "\n",
    "    # Return the dataframe with missing information\n",
    "    return mis_val_table_ren_columns\n",
    "\n",
    "# Missing values statistics\n",
    "missing_values = missing_values_table(df_train)\n",
    "missing_values.head(67)\n",
    "\n",
    "# Number of each type of column\n",
    "print(df_train.dtypes.value_counts())\n"
   ]
  },
  {
   "cell_type": "code",
   "execution_count": 3,
   "metadata": {},
   "outputs": [
    {
     "name": "stdout",
     "output_type": "stream",
     "text": [
      "3 columns were label encoded.\n"
     ]
    }
   ],
   "source": [
    "# Create a label encoder object\n",
    "le = LabelEncoder()\n",
    "le_count = 0\n",
    "\n",
    "# Iterate through the columns\n",
    "for col in df_train:\n",
    "    if df_train[col].dtype == 'object':\n",
    "        # If 2 or fewer unique categories\n",
    "        if len(list(df_train[col].unique())) <= 2:\n",
    "            # Train on the training data\n",
    "            le.fit(df_train[col])\n",
    "            # Transform both training and testing data\n",
    "            df_train[col] = le.transform(df_train[col])\n",
    "            df_test[col] = le.transform(df_test[col])\n",
    "            \n",
    "            # Keep track of how many columns were label encoded\n",
    "            le_count += 1\n",
    "            \n",
    "print('%d columns were label encoded.' % le_count)"
   ]
  },
  {
   "cell_type": "code",
   "execution_count": 4,
   "metadata": {},
   "outputs": [],
   "source": [
    "app_train = df_train\n",
    "app_test = df_test"
   ]
  },
  {
   "cell_type": "code",
   "execution_count": 5,
   "metadata": {},
   "outputs": [
    {
     "name": "stdout",
     "output_type": "stream",
     "text": [
      "Training Features shape:  (307511, 243)\n",
      "Testing Features shape:  (48744, 239)\n"
     ]
    }
   ],
   "source": [
    "# one-hot encoding of categorical variables\n",
    "app_train = pd.get_dummies(app_train)\n",
    "app_test = pd.get_dummies(app_test)\n",
    "\n",
    "print('Training Features shape: ', app_train.shape)\n",
    "print('Testing Features shape: ', app_test.shape)\n"
   ]
  },
  {
   "cell_type": "code",
   "execution_count": 6,
   "metadata": {
    "scrolled": true
   },
   "outputs": [
    {
     "name": "stdout",
     "output_type": "stream",
     "text": [
      "Training Features shape:  (307511, 240)\n",
      "Testing Features shape:  (48744, 239)\n",
      "count    307511.000000\n",
      "mean         43.936973\n",
      "std          11.956133\n",
      "min          20.517808\n",
      "25%          34.008219\n",
      "50%          43.150685\n",
      "75%          53.923288\n",
      "max          69.120548\n",
      "Name: DAYS_BIRTH, dtype: float64\n",
      "count    307511.000000\n",
      "mean      63815.045904\n",
      "std      141275.766519\n",
      "min      -17912.000000\n",
      "25%       -2760.000000\n",
      "50%       -1213.000000\n",
      "75%        -289.000000\n",
      "max      365243.000000\n",
      "Name: DAYS_EMPLOYED, dtype: float64\n"
     ]
    },
    {
     "data": {
      "image/png": "[encoded data removed]",
      "text/plain": [
       "<Figure size 432x288 with 1 Axes>"
      ]
     },
     "metadata": {},
     "output_type": "display_data"
    }
   ],
   "source": [
    "train_labels = app_train['TARGET']\n",
    "\n",
    "# Align the training and testing data, keep only columns present in both dataframes\n",
    "app_train, app_test = app_train.align(app_test, join = 'inner', axis = 1)\n",
    "\n",
    "# Add the target back in\n",
    "app_train['TARGET'] = train_labels\n",
    "\n",
    "print('Training Features shape: ', app_train.shape)\n",
    "print('Testing Features shape: ', app_test.shape)\n",
    "\n",
    "# ###\n",
    "# Check for anomalies /errors in data\n",
    "# ###\n",
    "\n",
    "##Convert birth data to years\n",
    "print((app_train['DAYS_BIRTH'] / -365).describe())\n",
    "\n",
    "print(app_train['DAYS_EMPLOYED'].describe())\n",
    "app_train['DAYS_EMPLOYED'].plot.hist(title = 'Days Employment Histogram');\n",
    "plt.xlabel('Days Employment');\n",
    "\n",
    "anom = app_train[app_train['DAYS_EMPLOYED'] == 365243]\n",
    "non_anom = app_train[app_train['DAYS_EMPLOYED'] != 365243]\n",
    "\n",
    "# Create an anomalous flag column\n",
    "app_train['DAYS_EMPLOYED_ANOM'] = app_train[\"DAYS_EMPLOYED\"] == 365243\n",
    "\n",
    "# Replace the anomalous values with nan\n",
    "app_train['DAYS_EMPLOYED'].replace({365243: np.nan}, inplace = True)\n",
    "\n",
    "##Do same to testing data\n",
    "app_test['DAYS_EMPLOYED_ANOM'] = app_test[\"DAYS_EMPLOYED\"] == 365243\n",
    "app_test[\"DAYS_EMPLOYED\"].replace({365243: np.nan}, inplace = True)"
   ]
  },
  {
   "cell_type": "code",
   "execution_count": 7,
   "metadata": {},
   "outputs": [
    {
     "name": "stdout",
     "output_type": "stream",
     "text": [
      "Most Positive Correlations:\n",
      " OCCUPATION_TYPE_Laborers                             0.043019\n",
      "FLAG_DOCUMENT_3                                      0.044346\n",
      "REG_CITY_NOT_LIVE_CITY                               0.044395\n",
      "FLAG_EMP_PHONE                                       0.045982\n",
      "NAME_EDUCATION_TYPE_Secondary / secondary special    0.049824\n",
      "REG_CITY_NOT_WORK_CITY                               0.050994\n",
      "DAYS_ID_PUBLISH                                      0.051457\n",
      "CODE_GENDER_M                                        0.054713\n",
      "DAYS_LAST_PHONE_CHANGE                               0.055218\n",
      "NAME_INCOME_TYPE_Working                             0.057481\n",
      "REGION_RATING_CLIENT                                 0.058899\n",
      "REGION_RATING_CLIENT_W_CITY                          0.060893\n",
      "DAYS_EMPLOYED                                        0.074958\n",
      "DAYS_BIRTH                                           0.078239\n",
      "TARGET                                               1.000000\n",
      "Name: TARGET, dtype: float64\n",
      "\n",
      "Most Negative Correlations:\n",
      " EXT_SOURCE_3                           -0.178919\n",
      "EXT_SOURCE_2                           -0.160472\n",
      "EXT_SOURCE_1                           -0.155317\n",
      "NAME_EDUCATION_TYPE_Higher education   -0.056593\n",
      "CODE_GENDER_F                          -0.054704\n",
      "NAME_INCOME_TYPE_Pensioner             -0.046209\n",
      "DAYS_EMPLOYED_ANOM                     -0.045987\n",
      "ORGANIZATION_TYPE_XNA                  -0.045987\n",
      "FLOORSMAX_AVG                          -0.044003\n",
      "FLOORSMAX_MEDI                         -0.043768\n",
      "FLOORSMAX_MODE                         -0.043226\n",
      "EMERGENCYSTATE_MODE_No                 -0.042201\n",
      "HOUSETYPE_MODE_block of flats          -0.040594\n",
      "AMT_GOODS_PRICE                        -0.039645\n",
      "REGION_POPULATION_RELATIVE             -0.037227\n",
      "Name: TARGET, dtype: float64\n"
     ]
    }
   ],
   "source": [
    "# Find correlations with the target and sort\n",
    "correlations = app_train.corr()['TARGET'].sort_values()\n",
    "\n",
    "# Display correlations\n",
    "print('Most Positive Correlations:\\n', correlations.tail(15))\n",
    "print('\\nMost Negative Correlations:\\n', correlations.head(15))"
   ]
  },
  {
   "cell_type": "code",
   "execution_count": 8,
   "metadata": {},
   "outputs": [
    {
     "name": "stdout",
     "output_type": "stream",
     "text": [
      "Polynomial Features shape:  (307511, 35)\n",
      "['1', 'EXT_SOURCE_1', 'EXT_SOURCE_2', 'EXT_SOURCE_3', 'DAYS_BIRTH', 'EXT_SOURCE_1^2', 'EXT_SOURCE_1 EXT_SOURCE_2', 'EXT_SOURCE_1 EXT_SOURCE_3', 'EXT_SOURCE_1 DAYS_BIRTH', 'EXT_SOURCE_2^2', 'EXT_SOURCE_2 EXT_SOURCE_3', 'EXT_SOURCE_2 DAYS_BIRTH', 'EXT_SOURCE_3^2', 'EXT_SOURCE_3 DAYS_BIRTH', 'DAYS_BIRTH^2']\n",
      "EXT_SOURCE_2 EXT_SOURCE_3                -0.193939\n",
      "EXT_SOURCE_1 EXT_SOURCE_2 EXT_SOURCE_3   -0.189605\n",
      "EXT_SOURCE_2^2 EXT_SOURCE_3              -0.176428\n",
      "EXT_SOURCE_2 EXT_SOURCE_3^2              -0.172282\n",
      "EXT_SOURCE_1 EXT_SOURCE_2                -0.166625\n",
      "EXT_SOURCE_1 EXT_SOURCE_3                -0.164065\n",
      "EXT_SOURCE_2                             -0.160295\n",
      "EXT_SOURCE_1 EXT_SOURCE_2^2              -0.156867\n",
      "EXT_SOURCE_3                             -0.155892\n",
      "EXT_SOURCE_1 EXT_SOURCE_3^2              -0.150822\n",
      "Name: TARGET, dtype: float64\n",
      "EXT_SOURCE_1 EXT_SOURCE_2 DAYS_BIRTH    0.155891\n",
      "EXT_SOURCE_2 DAYS_BIRTH                 0.156873\n",
      "EXT_SOURCE_2 EXT_SOURCE_3 DAYS_BIRTH    0.181283\n",
      "TARGET                                  1.000000\n",
      "1                                            NaN\n",
      "Name: TARGET, dtype: float64\n"
     ]
    }
   ],
   "source": [
    "# # Polynomial Features\n",
    "\n",
    "# One simple feature construction method is called polynomial features. In this method, \n",
    "# we make features that are powers of existing features as well as interaction terms between\n",
    "# existing features. For example, we can create variables EXT_SOURCE_1^2 and EXT_SOURCE_2^2 \n",
    "# and also variables such as EXT_SOURCE_1 x EXT_SOURCE_2, EXT_SOURCE_1 x EXT_SOURCE_2^2, \n",
    "# EXT_SOURCE_1^2 x  EXT_SOURCE_2^2, and so on. These features that are a combination of \n",
    "# multiple individual variables are called interaction terms because they capture the \n",
    "# interactions between variables. In other words, while two variables by themselves may not \n",
    "# have a strong influence on the target, combining them together into a single interaction \n",
    "# variable might show a relationship with the target. Interaction terms are commonly used \n",
    "# in statistical models to capture the effects of multiple variables, but I do not see them \n",
    "# used as often in machine learning. Nonetheless, we can try out a few to see if they might\n",
    "# help our model to predict whether or not a client will repay a loan.\n",
    "\n",
    "# Make a new dataframe for polynomial features\n",
    "poly_features = app_train[['EXT_SOURCE_1', 'EXT_SOURCE_2', 'EXT_SOURCE_3', 'DAYS_BIRTH', 'TARGET']]\n",
    "poly_features_test = app_test[['EXT_SOURCE_1', 'EXT_SOURCE_2', 'EXT_SOURCE_3', 'DAYS_BIRTH']]\n",
    "\n",
    "# imputer for handling missing values\n",
    "from sklearn.preprocessing import Imputer\n",
    "imputer = Imputer(strategy = 'median')\n",
    "\n",
    "poly_target = poly_features['TARGET']\n",
    "\n",
    "poly_features = poly_features.drop(columns = ['TARGET'])\n",
    "\n",
    "# Need to impute missing values\n",
    "poly_features = imputer.fit_transform(poly_features)\n",
    "poly_features_test = imputer.transform(poly_features_test)\n",
    "\n",
    "from sklearn.preprocessing import PolynomialFeatures\n",
    "                                  \n",
    "# Create the polynomial object with specified degree\n",
    "poly_transformer = PolynomialFeatures(degree = 3)\n",
    "\n",
    "# Train the polynomial features\n",
    "poly_transformer.fit(poly_features)\n",
    "\n",
    "# Transform the features\n",
    "poly_features = poly_transformer.transform(poly_features)\n",
    "poly_features_test = poly_transformer.transform(poly_features_test)\n",
    "print('Polynomial Features shape: ', poly_features.shape)\n",
    "\n",
    "#This creates a considerable number of new features. \n",
    "#To get the names we have to use the polynomial features get_feature_names method.\n",
    "\n",
    "# Get feature names \n",
    "print(poly_transformer.get_feature_names(input_features = ['EXT_SOURCE_1', 'EXT_SOURCE_2', 'EXT_SOURCE_3', 'DAYS_BIRTH'])[:15])\n",
    "\n",
    "# Now, we can see whether any of these new features are correlated with the target.\n",
    "\n",
    "# Create a dataframe of the features \n",
    "poly_features = pd.DataFrame(poly_features, \n",
    "                             columns = poly_transformer.get_feature_names(['EXT_SOURCE_1', 'EXT_SOURCE_2', \n",
    "                                                                           'EXT_SOURCE_3', 'DAYS_BIRTH']))\n",
    "# Add in the target\n",
    "poly_features['TARGET'] = poly_target\n",
    "\n",
    "# Find the correlations with the target\n",
    "poly_corrs = poly_features.corr()['TARGET'].sort_values()\n",
    "\n",
    "# Display most negative and most positive\n",
    "print(poly_corrs.head(10))\n",
    "print(poly_corrs.tail(5))\n"
   ]
  },
  {
   "cell_type": "code",
   "execution_count": 9,
   "metadata": {},
   "outputs": [
    {
     "name": "stdout",
     "output_type": "stream",
     "text": [
      "Training data with polynomial features shape:  (307511, 275)\n",
      "Testing data with polynomial features shape:   (48744, 275)\n"
     ]
    }
   ],
   "source": [
    "# Several of the new variables have a greater (in terms of absolute magnitude) \n",
    "# correlation with the target than the original features. When we build machine \n",
    "# learning models, we can try with and without these features to determine if they\n",
    "# actually help the model learn.\n",
    "# We will add these features to a copy of the training and testing data and then\n",
    "# evaluate models with and without the features. Many times in machine learning, \n",
    "# the only way to know if an approach will work is to try it out!\n",
    "\n",
    "# Put test features into dataframe\n",
    "poly_features_test = pd.DataFrame(poly_features_test, \n",
    "                                  columns = poly_transformer.get_feature_names(['EXT_SOURCE_1', 'EXT_SOURCE_2', \n",
    "                                                                                'EXT_SOURCE_3', 'DAYS_BIRTH']))\n",
    "\n",
    "# Merge polynomial features into training dataframe\n",
    "poly_features['SK_ID_CURR'] = app_train['SK_ID_CURR']\n",
    "app_train_poly = app_train.merge(poly_features, on = 'SK_ID_CURR', how = 'left')\n",
    "\n",
    "# Merge polnomial features into testing dataframe\n",
    "poly_features_test['SK_ID_CURR'] = app_test['SK_ID_CURR']\n",
    "app_test_poly = app_test.merge(poly_features_test, on = 'SK_ID_CURR', how = 'left')\n",
    "\n",
    "# Align the dataframes\n",
    "app_train_poly, app_test_poly = app_train_poly.align(app_test_poly, join = 'inner', axis = 1)\n",
    "\n",
    "# Print out the new shapes\n",
    "print('Training data with polynomial features shape: ', app_train_poly.shape)\n",
    "print('Testing data with polynomial features shape:  ', app_test_poly.shape)\n",
    "\n"
   ]
  },
  {
   "cell_type": "code",
   "execution_count": 10,
   "metadata": {},
   "outputs": [
    {
     "data": {
      "text/plain": [
       "(307511, 37)"
      ]
     },
     "execution_count": 10,
     "metadata": {},
     "output_type": "execute_result"
    }
   ],
   "source": [
    "poly_features.shape"
   ]
  },
  {
   "cell_type": "code",
   "execution_count": 11,
   "metadata": {},
   "outputs": [
    {
     "name": "stdout",
     "output_type": "stream",
     "text": [
      "Training data shape:  (307511, 275)\n",
      "Testing data shape:  (48744, 275)\n",
      "Testing target shape:  (307511,)\n"
     ]
    }
   ],
   "source": [
    "from sklearn.preprocessing import MinMaxScaler, Imputer\n",
    "\n",
    "# Drop the target from the training data\n",
    "if 'TARGET' in app_train_poly:\n",
    "    train = app_train_poly.drop(columns = ['TARGET'])\n",
    "else:\n",
    "    train = app_train_poly.copy()\n",
    "    \n",
    "# Feature names\n",
    "features = list(train.columns)\n",
    "\n",
    "# Copy of the testing data\n",
    "test = app_test_poly.copy()\n",
    "\n",
    "# Median imputation of missing values\n",
    "imputer = Imputer(strategy = 'median')\n",
    "\n",
    "# # Scale each feature to 0-1\n",
    "scaler = MinMaxScaler(feature_range = (0, 1))\n",
    "\n",
    "# Fit on the training data\n",
    "imputer.fit(train)\n",
    "\n",
    "# Transform both training and testing data\n",
    "train = imputer.transform(train)\n",
    "test = imputer.transform(test)\n",
    "\n",
    "# Repeat with the scaler\n",
    "scaler.fit(train)\n",
    "train = scaler.transform(train)\n",
    "test = scaler.transform(test)\n",
    "\n",
    "target=poly_features['TARGET']\n",
    "\n",
    "print('Training data shape: ', train.shape)\n",
    "print('Testing data shape: ', test.shape)\n",
    "print('Testing target shape: ', target.shape)"
   ]
  },
  {
   "cell_type": "code",
   "execution_count": 12,
   "metadata": {},
   "outputs": [
    {
     "data": {
      "text/plain": [
       "Index(['SK_ID_CURR', 'NAME_CONTRACT_TYPE', 'FLAG_OWN_CAR', 'FLAG_OWN_REALTY',\n",
       "       'CNT_CHILDREN', 'AMT_INCOME_TOTAL', 'AMT_CREDIT', 'AMT_ANNUITY',\n",
       "       'AMT_GOODS_PRICE', 'REGION_POPULATION_RELATIVE',\n",
       "       ...\n",
       "       'EXT_SOURCE_2^3', 'EXT_SOURCE_2^2 EXT_SOURCE_3',\n",
       "       'EXT_SOURCE_2^2 DAYS_BIRTH', 'EXT_SOURCE_2 EXT_SOURCE_3^2',\n",
       "       'EXT_SOURCE_2 EXT_SOURCE_3 DAYS_BIRTH', 'EXT_SOURCE_2 DAYS_BIRTH^2',\n",
       "       'EXT_SOURCE_3^3', 'EXT_SOURCE_3^2 DAYS_BIRTH',\n",
       "       'EXT_SOURCE_3 DAYS_BIRTH^2', 'DAYS_BIRTH^3'],\n",
       "      dtype='object', length=275)"
      ]
     },
     "execution_count": 12,
     "metadata": {},
     "output_type": "execute_result"
    }
   ],
   "source": [
    "app_train_poly.columns"
   ]
  },
  {
   "cell_type": "code",
   "execution_count": 13,
   "metadata": {},
   "outputs": [
    {
     "data": {
      "text/plain": [
       "0         True\n",
       "1         True\n",
       "2         True\n",
       "3         True\n",
       "4         True\n",
       "5         True\n",
       "6         True\n",
       "7         True\n",
       "8         True\n",
       "9         True\n",
       "10        True\n",
       "11        True\n",
       "12        True\n",
       "13        True\n",
       "14        True\n",
       "15        True\n",
       "16        True\n",
       "17        True\n",
       "18        True\n",
       "19        True\n",
       "20        True\n",
       "21        True\n",
       "22        True\n",
       "23        True\n",
       "24        True\n",
       "25        True\n",
       "26        True\n",
       "27        True\n",
       "28        True\n",
       "29        True\n",
       "          ... \n",
       "307481    True\n",
       "307482    True\n",
       "307483    True\n",
       "307484    True\n",
       "307485    True\n",
       "307486    True\n",
       "307487    True\n",
       "307488    True\n",
       "307489    True\n",
       "307490    True\n",
       "307491    True\n",
       "307492    True\n",
       "307493    True\n",
       "307494    True\n",
       "307495    True\n",
       "307496    True\n",
       "307497    True\n",
       "307498    True\n",
       "307499    True\n",
       "307500    True\n",
       "307501    True\n",
       "307502    True\n",
       "307503    True\n",
       "307504    True\n",
       "307505    True\n",
       "307506    True\n",
       "307507    True\n",
       "307508    True\n",
       "307509    True\n",
       "307510    True\n",
       "Name: TARGET, Length: 307511, dtype: bool"
      ]
     },
     "execution_count": 13,
     "metadata": {},
     "output_type": "execute_result"
    }
   ],
   "source": [
    "target == train_labels"
   ]
  },
  {
   "cell_type": "code",
   "execution_count": 14,
   "metadata": {},
   "outputs": [
    {
     "name": "stdout",
     "output_type": "stream",
     "text": [
      "             precision    recall  f1-score   support\n",
      "\n",
      "          0       0.92      1.00      0.96     84841\n",
      "          1       0.51      0.01      0.02      7413\n",
      "\n",
      "avg / total       0.89      0.92      0.88     92254\n",
      "\n"
     ]
    }
   ],
   "source": [
    "# Import necessary modules\n",
    "from sklearn.metrics import classification_report, confusion_matrix\n",
    "from sklearn.linear_model import LogisticRegression\n",
    "from sklearn.model_selection import train_test_split\n",
    "\n",
    "##Create X y split of Data\n",
    "# X_train = train\n",
    "# y_train = target\n",
    "# print(X_tr_train)\n",
    "# print(y_tr_train.shape)\n",
    "\n",
    "# Create training and test set\n",
    "X_train, X_test, y_train, y_test = train_test_split(train,train_labels,test_size=0.3,random_state=42)\n",
    "\n",
    "# Instantiate classifier: \n",
    "logreg = LogisticRegression()\n",
    "### C = 0.5 : 0.739\n",
    "### C = 0.0001 : 0.719 (though it was 0.69 something when first submitted below and trained on all train data) \n",
    "### C = default : 0.739\n",
    "\n",
    "# Fit the classifier to the training data\n",
    "logreg.fit(X_train, y_train)\n",
    "\n",
    "# Predict the labels of the internal test data: y_pred\n",
    "y_pred = logreg.predict(X_test)\n",
    "\n",
    "# Generate the confusion matrix and classification report\n",
    "# print(confusion_matrix(y_tr_test, y_pred))\n",
    "print(classification_report(y_test, y_pred))"
   ]
  },
  {
   "cell_type": "code",
   "execution_count": 15,
   "metadata": {},
   "outputs": [],
   "source": [
    "# from sklearn.linear_model import LogisticRegression\n",
    "\n",
    "# # Make the model with the specified regularization parameter\n",
    "# log_reg = LogisticRegression(C = 0.0001) ##lower C regularization param to try DECREASE OVERFITTING\n",
    "\n",
    "# # Train on the training data\n",
    "# log_reg.fit(train, train_labels)"
   ]
  },
  {
   "cell_type": "code",
   "execution_count": 18,
   "metadata": {},
   "outputs": [
    {
     "data": {
      "text/plain": [
       "LogisticRegression(C=1.0, class_weight=None, dual=False, fit_intercept=True,\n",
       "          intercept_scaling=1, max_iter=100, multi_class='ovr', n_jobs=1,\n",
       "          penalty='l2', random_state=None, solver='liblinear', tol=0.0001,\n",
       "          verbose=0, warm_start=False)"
      ]
     },
     "execution_count": 18,
     "metadata": {},
     "output_type": "execute_result"
    }
   ],
   "source": [
    "#Submission predict on Kaggle full test set\n",
    "logreg.fit(train, target) \n",
    "###comments next try runnin logreg (no underscore) running C default or C=0.5 on full training set"
   ]
  },
  {
   "cell_type": "code",
   "execution_count": 19,
   "metadata": {},
   "outputs": [
    {
     "data": {
      "text/plain": [
       "array([0.05286526, 0.20738687, 0.03744121, 0.03625249, 0.12412711,\n",
       "       0.02288222, 0.01986048, 0.09604344, 0.01309176, 0.10441817,\n",
       "       0.06304061, 0.08069987, 0.17858764, 0.09717929, 0.09456429,\n",
       "       0.13645592, 0.06907401, 0.02984989, 0.06361002, 0.04040932,\n",
       "       0.02612618, 0.00622442, 0.03308466, 0.08115877, 0.0455044 ,\n",
       "       0.13147086, 0.09946963, 0.06136139, 0.0452302 , 0.08524274,\n",
       "       0.01378928, 0.01993507, 0.17693411, 0.01786268, 0.02013388,\n",
       "       0.10779645, 0.01243316, 0.22645567, 0.01362765, 0.16680423,\n",
       "       0.15003578, 0.0157484 , 0.09054513, 0.05055941, 0.10739574,\n",
       "       0.1427296 , 0.03913939, 0.15256649, 0.07268571, 0.09812334,\n",
       "       0.05963197, 0.03230525, 0.12651438, 0.02619251, 0.11769903,\n",
       "       0.03684067, 0.04266657, 0.15418881, 0.14948818, 0.09537225,\n",
       "       0.0323689 , 0.0578861 , 0.01962683, 0.02648293, 0.01341535,\n",
       "       0.07081698, 0.17102615, 0.02959103, 0.03648329, 0.04939473,\n",
       "       0.04472111, 0.12450481, 0.02913576, 0.14073701, 0.43458667,\n",
       "       0.04007261, 0.05780151, 0.02124807, 0.05688872, 0.05880269,\n",
       "       0.07472677, 0.12646832, 0.09177577, 0.13826419, 0.10118755,\n",
       "       0.14004946, 0.05474657, 0.43538443, 0.08462384, 0.19329933,\n",
       "       0.11922122, 0.13261224, 0.04846163, 0.15243108, 0.25820782,\n",
       "       0.04076181, 0.34382728, 0.20867455, 0.057492  , 0.088791  ,\n",
       "       0.05772148, 0.02873677, 0.09841979, 0.03485046, 0.03833896,\n",
       "       0.0257471 , 0.01143513, 0.02334539, 0.0326692 , 0.05055728,\n",
       "       0.03782107, 0.34477767, 0.07353536, 0.08359694, 0.12318908,\n",
       "       0.05305075, 0.01110386, 0.06184787, 0.05640904, 0.22643394,\n",
       "       0.05719959, 0.17310681, 0.26043504, 0.05118499, 0.08501175,\n",
       "       0.07626273, 0.11488457, 0.10333824, 0.24460609, 0.13698299,\n",
       "       0.08207734, 0.0610853 , 0.04079541, 0.16508013, 0.03222138,\n",
       "       0.0450656 , 0.03437329, 0.00961763, 0.1228545 , 0.27324023,\n",
       "       0.05846737, 0.0506259 , 0.11365394, 0.05509175, 0.03204343,\n",
       "       0.10893989, 0.13534763, 0.01562427, 0.09639938, 0.09249246,\n",
       "       0.16617989, 0.02379789, 0.02990506, 0.130423  , 0.10208695,\n",
       "       0.12767942, 0.08097307, 0.2131095 , 0.05860035, 0.01746781,\n",
       "       0.13365806, 0.09928695, 0.11591628, 0.12908108, 0.01820047,\n",
       "       0.03893337, 0.06375153, 0.08982005, 0.05667243, 0.08529064,\n",
       "       0.11915603, 0.10116334, 0.13904143, 0.04535463, 0.19474839,\n",
       "       0.14996856, 0.02044389, 0.15005652, 0.03854222, 0.09179395,\n",
       "       0.04480123, 0.0544219 , 0.05254265, 0.07125102, 0.04334182,\n",
       "       0.0270409 , 0.04248353, 0.11888732, 0.11140945, 0.02175104,\n",
       "       0.27489443, 0.05446709, 0.03797576, 0.10839701, 0.01533524,\n",
       "       0.02202306, 0.01736599, 0.01504674, 0.15771668, 0.23718888,\n",
       "       0.02108214, 0.08801801, 0.30013031, 0.02458061, 0.11405059,\n",
       "       0.22078828, 0.01706838, 0.16675029, 0.01931801, 0.02299114,\n",
       "       0.01606164, 0.27173321, 0.218907  , 0.1202008 , 0.04757362,\n",
       "       0.4420111 , 0.14983594, 0.1358344 , 0.04563592, 0.08751541,\n",
       "       0.07552701, 0.06471971, 0.07192335, 0.0252614 , 0.12843245,\n",
       "       0.16178319, 0.06008528, 0.11902397, 0.03266128, 0.09650978,\n",
       "       0.15166572, 0.03080897, 0.04207305, 0.04634789, 0.24710254,\n",
       "       0.1293229 , 0.02598554, 0.12346198, 0.05342791, 0.07021158,\n",
       "       0.1045434 , 0.03380802, 0.13251891, 0.07321559, 0.00808893,\n",
       "       0.09469819, 0.05074232, 0.07455338, 0.03647831, 0.11901574,\n",
       "       0.09388775, 0.07606432, 0.14953356, 0.29496934, 0.02959081,\n",
       "       0.0443835 , 0.22882048, 0.05206036, 0.06762628, 0.18583698,\n",
       "       0.08506569, 0.07657071, 0.03006535, 0.06666351, 0.36900014,\n",
       "       0.02158719, 0.01528118, 0.06118653, 0.0408493 , 0.01144848,\n",
       "       0.10766864, 0.09033926, 0.01413743, 0.21055165, 0.10501868,\n",
       "       0.02576335, 0.02039318, 0.0948498 , 0.03142555, 0.0819909 ,\n",
       "       0.26680757, 0.04409559, 0.05532908, 0.06602557, 0.10901636,\n",
       "       0.04532253, 0.04534986, 0.19217939, 0.09818892, 0.0361834 ,\n",
       "       0.44328534, 0.01740289, 0.26902528, 0.01570252, 0.19837415,\n",
       "       0.01291323, 0.02631324, 0.09617916, 0.1332304 , 0.08607984,\n",
       "       0.05793603, 0.07606328, 0.08667235, 0.09073545, 0.05371377,\n",
       "       0.07058811, 0.05351642, 0.18156529, 0.02673588, 0.05313119,\n",
       "       0.22280916, 0.04650062, 0.09063713, 0.03844044, 0.09512134,\n",
       "       0.04481751, 0.09840085, 0.04587395, 0.05256835, 0.03136707,\n",
       "       0.22221553, 0.04592033, 0.13972499, 0.01558609, 0.05035235,\n",
       "       0.05379825, 0.08116303, 0.12496155, 0.04089431, 0.23395155,\n",
       "       0.0615223 , 0.10478799, 0.04548602, 0.12869   , 0.03445818,\n",
       "       0.03154113, 0.08151924, 0.07779011, 0.01904052, 0.04497132,\n",
       "       0.04555418, 0.03798938, 0.14267783, 0.06264099, 0.09482367,\n",
       "       0.02337436, 0.03654874, 0.02938298, 0.02493237, 0.03943727,\n",
       "       0.03186185, 0.08341707, 0.00658425, 0.03566343, 0.10851806,\n",
       "       0.05299213, 0.04446231, 0.02749353, 0.11951839, 0.13577877,\n",
       "       0.07667795, 0.07134912, 0.19197486, 0.05219355, 0.10908876,\n",
       "       0.06819033, 0.01587286, 0.17621963, 0.05122706, 0.0853579 ,\n",
       "       0.17615023, 0.12193419, 0.05175825, 0.04163286, 0.05432739,\n",
       "       0.03812157, 0.05178   , 0.00980492, 0.03124097, 0.12473102,\n",
       "       0.09066299, 0.0291685 , 0.16189856, 0.03103593, 0.02273684,\n",
       "       0.10191059, 0.0911464 , 0.02465836, 0.01250936, 0.06655685,\n",
       "       0.18766969, 0.04593249, 0.01855827, 0.02490378, 0.01616753,\n",
       "       0.16985866, 0.03313773, 0.06111281, 0.03787657, 0.0528094 ,\n",
       "       0.02330726, 0.07163234, 0.10313305, 0.19128763, 0.03286338,\n",
       "       0.0423976 , 0.11598679, 0.03764824, 0.01757474, 0.01829962,\n",
       "       0.06535919, 0.08776726, 0.21087297, 0.0899861 , 0.09606321,\n",
       "       0.02863177, 0.06737869, 0.05999368, 0.18452775, 0.04140093,\n",
       "       0.0908474 , 0.10487556, 0.02364522, 0.03407786, 0.06685022,\n",
       "       0.01664841, 0.1061926 , 0.1061798 , 0.06084196, 0.03361807,\n",
       "       0.03210587, 0.06731918, 0.07373875, 0.02969556, 0.21079825,\n",
       "       0.07372222, 0.09899871, 0.05158811, 0.1032134 , 0.0229849 ,\n",
       "       0.02111615, 0.08569444, 0.08487054, 0.1337966 , 0.17503434,\n",
       "       0.07001304, 0.05350225, 0.08689965, 0.06885742, 0.02837946,\n",
       "       0.15772785, 0.03855184, 0.08370711, 0.0198578 , 0.04161569,\n",
       "       0.14253884, 0.03667685, 0.01365331, 0.1442301 , 0.22084694,\n",
       "       0.03140302, 0.09584747, 0.18343755, 0.03888769, 0.14003531,\n",
       "       0.04416415, 0.18221716, 0.0256256 , 0.00851381, 0.03027365,\n",
       "       0.44318279, 0.03033393, 0.05033595, 0.00691066, 0.0360787 ,\n",
       "       0.10686499, 0.0965869 , 0.05668828, 0.02277221, 0.12854449,\n",
       "       0.05360444, 0.01755455, 0.0590216 , 0.15557488, 0.05341943,\n",
       "       0.01267093, 0.15156978, 0.09854338, 0.02069889, 0.01380737,\n",
       "       0.04579145, 0.04281164, 0.07689383, 0.05053802, 0.02081793,\n",
       "       0.07462211, 0.11503381, 0.02581781, 0.21062941, 0.2179785 ,\n",
       "       0.12971268, 0.0200628 , 0.06308406, 0.06881198, 0.05088424,\n",
       "       0.25889516, 0.08236798, 0.21476817, 0.02464342, 0.29268013,\n",
       "       0.36566492, 0.1350777 , 0.02816119, 0.04809501, 0.09979794,\n",
       "       0.04286022, 0.06160326, 0.05993979, 0.02748969, 0.03655365,\n",
       "       0.04516761, 0.24723084, 0.17426847, 0.02444761, 0.06360899,\n",
       "       0.09399783, 0.04793741, 0.01246851, 0.05324654, 0.04295113,\n",
       "       0.06915026, 0.07201683, 0.05065849, 0.02310022, 0.04547658,\n",
       "       0.20078917, 0.01744189, 0.0688529 , 0.23688358, 0.00924469,\n",
       "       0.09042437, 0.06023901, 0.02569376, 0.05325825, 0.13423702,\n",
       "       0.06630131, 0.27752705, 0.02723877, 0.021719  , 0.32251079,\n",
       "       0.01480604, 0.11863489, 0.22829039, 0.12988991, 0.01298188,\n",
       "       0.18312384, 0.22599882, 0.01210478, 0.08215228, 0.09097324,\n",
       "       0.01398052, 0.02452358, 0.40627679, 0.0400193 , 0.08209116,\n",
       "       0.1129038 , 0.04316756, 0.10982145, 0.11489391, 0.102331  ,\n",
       "       0.07819591, 0.08824427, 0.04527701, 0.26120976, 0.01951279,\n",
       "       0.03277449, 0.10110586, 0.07011523, 0.04767856, 0.1674667 ,\n",
       "       0.02575506, 0.05978018, 0.01629516, 0.08212618, 0.01915233,\n",
       "       0.04573082, 0.03974352, 0.17313418, 0.03408319, 0.31859572,\n",
       "       0.11905631, 0.03015077, 0.01897181, 0.14167096, 0.03018809,\n",
       "       0.05226732, 0.08468918, 0.06267842, 0.30310807, 0.17562988,\n",
       "       0.05276347, 0.1140338 , 0.08802815, 0.02929348, 0.2788922 ,\n",
       "       0.16212504, 0.03103803, 0.04842028, 0.10079604, 0.02149437,\n",
       "       0.14065665, 0.06251363, 0.0250433 , 0.05450002, 0.0722032 ,\n",
       "       0.03313882, 0.08779094, 0.13335192, 0.10571703, 0.06415363,\n",
       "       0.04775997, 0.03065078, 0.1362084 , 0.07550795, 0.17436842,\n",
       "       0.07032355, 0.03891536, 0.05441599, 0.04603699, 0.03277334,\n",
       "       0.19462246, 0.01784168, 0.07953465, 0.02516892, 0.22931918,\n",
       "       0.0984412 , 0.102824  , 0.10240623, 0.04186994, 0.08329222,\n",
       "       0.03646404, 0.01007347, 0.07473354, 0.03191779, 0.13714069,\n",
       "       0.12227169, 0.0171409 , 0.03515627, 0.16105126, 0.01376799,\n",
       "       0.01432149, 0.0338882 , 0.09917567, 0.0144655 , 0.09741547,\n",
       "       0.15802819, 0.09368858, 0.02282081, 0.06663406, 0.02908704,\n",
       "       0.06358234, 0.13040399, 0.13141407, 0.02378784, 0.11067612,\n",
       "       0.09829584, 0.04278243, 0.02458034, 0.0375755 , 0.12641611,\n",
       "       0.10510663, 0.09514453, 0.0449825 , 0.04850599, 0.02534924,\n",
       "       0.13291779, 0.02973369, 0.18121388, 0.05878517, 0.06848932,\n",
       "       0.02049913, 0.17087286, 0.06873775, 0.05706738, 0.02239828,\n",
       "       0.03286753, 0.05429242, 0.00595002, 0.04640754, 0.1098867 ,\n",
       "       0.05187345, 0.40125527, 0.22934131, 0.02659227, 0.03300282,\n",
       "       0.0299119 , 0.08798077, 0.16468838, 0.1053404 , 0.03079104,\n",
       "       0.04076461, 0.10621527, 0.01975631, 0.07033602, 0.02823771,\n",
       "       0.10689938, 0.01627284, 0.03625615, 0.0765451 , 0.04839585,\n",
       "       0.05704632, 0.08724906, 0.10503558, 0.10882421, 0.05420338,\n",
       "       0.06312382, 0.23836984, 0.03289698, 0.07911473, 0.02727857,\n",
       "       0.04271365, 0.0880594 , 0.30143489, 0.12570448, 0.04036434,\n",
       "       0.03438527, 0.07780963, 0.06189789, 0.08104179, 0.34449507,\n",
       "       0.02475404, 0.09193824, 0.04927316, 0.48325529, 0.1112646 ,\n",
       "       0.04019276, 0.21323402, 0.06281064, 0.05363468, 0.04547562,\n",
       "       0.0486103 , 0.04112235, 0.13762528, 0.04888036, 0.03926813,\n",
       "       0.13613578, 0.01234118, 0.24376105, 0.06961621, 0.22000575,\n",
       "       0.01345271, 0.05257423, 0.08128143, 0.15782991, 0.01391658,\n",
       "       0.16337565, 0.15592104, 0.03124899, 0.05568045, 0.05416063,\n",
       "       0.07138392, 0.03649408, 0.04297095, 0.12077971, 0.2293992 ,\n",
       "       0.09151667, 0.03118455, 0.09989725, 0.0092616 , 0.07737987,\n",
       "       0.03372705, 0.03249384, 0.04858071, 0.13929044, 0.05277007,\n",
       "       0.06189007, 0.0338488 , 0.09065743, 0.00886766, 0.07730273,\n",
       "       0.049117  , 0.01678332, 0.07551301, 0.03728568, 0.02782654,\n",
       "       0.06306889, 0.16409892, 0.14264376, 0.08977628, 0.07595428,\n",
       "       0.04653138, 0.03676441, 0.09987591, 0.09966073, 0.12289511,\n",
       "       0.05378807, 0.01582606, 0.24741629, 0.03653689, 0.07911906,\n",
       "       0.06621547, 0.02080675, 0.0139673 , 0.00918913, 0.29232713,\n",
       "       0.10236581, 0.10827242, 0.02982489, 0.04765916, 0.07362163,\n",
       "       0.11811958, 0.01367083, 0.02599003, 0.02476223, 0.14663739,\n",
       "       0.09146926, 0.06948545, 0.03922061, 0.02584763, 0.09832447,\n",
       "       0.15870837, 0.07841707, 0.04911978, 0.04430544, 0.0648859 ,\n",
       "       0.06269088, 0.07426175, 0.02586893, 0.04500804, 0.16247391,\n",
       "       0.01584704, 0.15796204, 0.18872217, 0.04150487, 0.06361802,\n",
       "       0.21673351, 0.06672952, 0.03211179, 0.07126618, 0.11015562,\n",
       "       0.17873773, 0.03565212, 0.13349998, 0.15832716, 0.03011742,\n",
       "       0.08585254, 0.03100229, 0.16290773, 0.08217071, 0.02980872,\n",
       "       0.03162294, 0.16839428, 0.02965026, 0.06633788, 0.09967688,\n",
       "       0.13864643, 0.02080594, 0.08742645, 0.04201325, 0.03061253,\n",
       "       0.1042621 , 0.06955134, 0.03988708, 0.11184278, 0.11905226,\n",
       "       0.0537314 , 0.20509951, 0.08672094, 0.08799716, 0.04792697,\n",
       "       0.19275786, 0.04207546, 0.01759047, 0.05229705, 0.25958098,\n",
       "       0.06675525, 0.15082121, 0.01433802, 0.2324604 , 0.01603044,\n",
       "       0.27740388, 0.05213073, 0.06513553, 0.0251217 , 0.09697068,\n",
       "       0.00916262, 0.04873144, 0.06063622, 0.05636581, 0.01202189,\n",
       "       0.17636575, 0.02587523, 0.08160479, 0.0345091 , 0.10576991,\n",
       "       0.07687833, 0.09906468, 0.02854434, 0.02866968, 0.07319612,\n",
       "       0.08400874, 0.06017088, 0.04137678, 0.1016318 , 0.05582185,\n",
       "       0.05130762, 0.09940458, 0.0148578 , 0.0595857 , 0.02229669,\n",
       "       0.14736927, 0.11271939, 0.03012315, 0.06602767, 0.04918574,\n",
       "       0.15346391, 0.04532775, 0.03218446, 0.05107212, 0.0709782 ,\n",
       "       0.0843469 , 0.16800853, 0.02106681, 0.05373081, 0.06823673,\n",
       "       0.02426772, 0.15654991, 0.09026009, 0.14665779, 0.0698434 ,\n",
       "       0.0100571 , 0.16201166, 0.13738295, 0.28408627, 0.12479156,\n",
       "       0.07164479, 0.11123386, 0.0488658 , 0.06290114, 0.06394151,\n",
       "       0.03027818, 0.16342355, 0.10096727, 0.03278599, 0.1664804 ,\n",
       "       0.04699878, 0.16018202, 0.11130298, 0.13878259, 0.14372558,\n",
       "       0.03249199, 0.00851358, 0.11351692, 0.28745692, 0.04316268,\n",
       "       0.09094745, 0.02202891, 0.04731647, 0.07931245, 0.03794938,\n",
       "       0.1176055 , 0.03830449, 0.02150829, 0.35600439, 0.19592538,\n",
       "       0.02963299, 0.04501749, 0.0517231 , 0.05955599, 0.08357395,\n",
       "       0.12984064, 0.10789483, 0.05209208, 0.08266033, 0.06054388,\n",
       "       0.07362878, 0.07463383, 0.26776326, 0.10055342, 0.13139776,\n",
       "       0.06154504, 0.01197472, 0.09662305, 0.13382027, 0.10903566,\n",
       "       0.44517481, 0.02477473, 0.14158585, 0.17560496, 0.05014643,\n",
       "       0.08757559, 0.03894598, 0.0410812 , 0.02390494, 0.0524104 ,\n",
       "       0.15768404, 0.06394888, 0.1705516 , 0.41861486, 0.05802824])"
      ]
     },
     "execution_count": 19,
     "metadata": {},
     "output_type": "execute_result"
    }
   ],
   "source": [
    "kaggle_pred = logreg.predict_proba(test)[:, 1]\n",
    "kaggle_pred[:1000]"
   ]
  },
  {
   "cell_type": "code",
   "execution_count": 20,
   "metadata": {},
   "outputs": [
    {
     "name": "stdout",
     "output_type": "stream",
     "text": [
      "[0.05286526 0.20738687 0.03744121 ... 0.05195521 0.05335522 0.13628023]\n"
     ]
    },
    {
     "name": "stderr",
     "output_type": "stream",
     "text": [
      "/Volumes/Macintosh HD /Users/stephanviollier/CodingProjects/ix/venv/lib/python3.6/site-packages/ipykernel_launcher.py:5: SettingWithCopyWarning: \n",
      "A value is trying to be set on a copy of a slice from a DataFrame.\n",
      "Try using .loc[row_indexer,col_indexer] = value instead\n",
      "\n",
      "See the caveats in the documentation: http://pandas.pydata.org/pandas-docs/stable/indexing.html#indexing-view-versus-copy\n",
      "  \"\"\"\n"
     ]
    }
   ],
   "source": [
    "# Submission dataframe\n",
    "submit = app_test[['SK_ID_CURR']]\n",
    "# print(submit)\n",
    "print(np.array(kaggle_pred))\n",
    "submit['TARGET'] = kaggle_pred\n",
    "# print(submit)\n",
    "\n",
    "submit.head()\n",
    "\n",
    "# Save the submission to a csv file\n",
    "submit.to_csv('kaggle_pred.csv', index = False) \n",
    "\n",
    "##Score: 0.739"
   ]
  },
  {
   "cell_type": "code",
   "execution_count": 21,
   "metadata": {},
   "outputs": [],
   "source": [
    "###comments next try runnin logreg running C default or C=0.5 on full training set"
   ]
  },
  {
   "cell_type": "code",
   "execution_count": 22,
   "metadata": {},
   "outputs": [
    {
     "data": {
      "image/png": "[encoded data removed]",
      "text/plain": [
       "<Figure size 432x288 with 1 Axes>"
      ]
     },
     "metadata": {},
     "output_type": "display_data"
    }
   ],
   "source": [
    "from sklearn.metrics import roc_curve\n",
    "\n",
    "# Compute predicted probabilities: y_pred_prob\n",
    "y_pred_prob = logreg.predict_proba(X_test)[:,1]\n",
    "\n",
    "# Generate ROC curve values: fpr, tpr, thresholds\n",
    "fpr, tpr, thresholds = roc_curve(y_test, y_pred_prob)\n",
    "\n",
    "# Plot ROC curve\n",
    "plt.plot([0, 1], [0, 1], 'k--')\n",
    "plt.plot(fpr, tpr)\n",
    "plt.xlabel('False Positive Rate')\n",
    "plt.ylabel('True Positive Rate')\n",
    "plt.title('ROC Curve')\n",
    "plt.show()"
   ]
  },
  {
   "cell_type": "code",
   "execution_count": 23,
   "metadata": {},
   "outputs": [
    {
     "name": "stdout",
     "output_type": "stream",
     "text": [
      "0.9193524785308198\n"
     ]
    }
   ],
   "source": [
    "##Cross Validation\n",
    "from sklearn.linear_model import LinearRegression\n",
    "from sklearn.model_selection import cross_val_score\n",
    "\n",
    "# Perform 3-fold CV\n",
    "cvscores_3 = cross_val_score(logreg,train,target,cv=3)\n",
    "print(np.mean(cvscores_3))"
   ]
  },
  {
   "cell_type": "code",
   "execution_count": null,
   "metadata": {},
   "outputs": [],
   "source": []
  }
 ],
 "metadata": {
  "kernelspec": {
   "display_name": "Python 3",
   "language": "python",
   "name": "python3"
  },
  "language_info": {
   "codemirror_mode": {
    "name": "ipython",
    "version": 3
   },
   "file_extension": ".py",
   "mimetype": "text/x-python",
   "name": "python",
   "nbconvert_exporter": "python",
   "pygments_lexer": "ipython3",
   "version": "3.6.5"
  }
 },
 "nbformat": 4,
 "nbformat_minor": 2
}
